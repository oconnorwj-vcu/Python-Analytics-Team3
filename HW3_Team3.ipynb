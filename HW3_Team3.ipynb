{
 "cells": [
  {
   "cell_type": "markdown",
   "metadata": {},
   "source": [
    "### Import packages"
   ]
  },
  {
   "cell_type": "code",
   "execution_count": 1,
   "metadata": {},
   "outputs": [],
   "source": [
    "import pandas as pd\n",
    "import numpy as np\n",
    "import matplotlib.pyplot as plt\n",
    "import seaborn as sns\n",
    "from sklearn.model_selection import train_test_split\n",
    "from sklearn.tree import DecisionTreeClassifier\n",
    "from sklearn.model_selection import GridSearchCV\n",
    "from sklearn.ensemble import RandomForestClassifier\n",
    "from sklearn.model_selection import RandomizedSearchCV\n",
    "from sklearn.metrics import roc_curve, roc_auc_score"
   ]
  },
  {
   "cell_type": "markdown",
   "metadata": {},
   "source": [
    "### Set-up"
   ]
  },
  {
   "cell_type": "code",
   "execution_count": 2,
   "metadata": {},
   "outputs": [],
   "source": [
    "# we will read the dataset that we created in the previous exercise\n",
    "df = pd.read_csv(\"winequality.csv\", encoding='ISO-8859-1')\n",
    "df = df.drop(df.columns[0],axis=1)\n",
    "\n",
    "\n",
    "sns.set(style='darkgrid')"
   ]
  },
  {
   "cell_type": "code",
   "execution_count": 3,
   "metadata": {},
   "outputs": [
    {
     "data": {
      "text/html": [
       "<div>\n",
       "<style scoped>\n",
       "    .dataframe tbody tr th:only-of-type {\n",
       "        vertical-align: middle;\n",
       "    }\n",
       "\n",
       "    .dataframe tbody tr th {\n",
       "        vertical-align: top;\n",
       "    }\n",
       "\n",
       "    .dataframe thead th {\n",
       "        text-align: right;\n",
       "    }\n",
       "</style>\n",
       "<table border=\"1\" class=\"dataframe\">\n",
       "  <thead>\n",
       "    <tr style=\"text-align: right;\">\n",
       "      <th></th>\n",
       "      <th>fixed acidity</th>\n",
       "      <th>volatile acidity</th>\n",
       "      <th>citric acid</th>\n",
       "      <th>residual sugar</th>\n",
       "      <th>chlorides</th>\n",
       "      <th>free sulfur dioxide</th>\n",
       "      <th>total sulfur dioxide</th>\n",
       "      <th>density</th>\n",
       "      <th>pH</th>\n",
       "      <th>sulphates</th>\n",
       "      <th>alcohol</th>\n",
       "      <th>quality</th>\n",
       "      <th>wine type</th>\n",
       "    </tr>\n",
       "  </thead>\n",
       "  <tbody>\n",
       "    <tr>\n",
       "      <th>0</th>\n",
       "      <td>7.0</td>\n",
       "      <td>0.27</td>\n",
       "      <td>0.36</td>\n",
       "      <td>20.7</td>\n",
       "      <td>0.045</td>\n",
       "      <td>45.0</td>\n",
       "      <td>170.0</td>\n",
       "      <td>1.0010</td>\n",
       "      <td>3.00</td>\n",
       "      <td>0.45</td>\n",
       "      <td>8.8</td>\n",
       "      <td>6</td>\n",
       "      <td>White</td>\n",
       "    </tr>\n",
       "    <tr>\n",
       "      <th>1</th>\n",
       "      <td>6.3</td>\n",
       "      <td>0.30</td>\n",
       "      <td>0.34</td>\n",
       "      <td>1.6</td>\n",
       "      <td>0.049</td>\n",
       "      <td>14.0</td>\n",
       "      <td>132.0</td>\n",
       "      <td>0.9940</td>\n",
       "      <td>3.30</td>\n",
       "      <td>0.49</td>\n",
       "      <td>9.5</td>\n",
       "      <td>6</td>\n",
       "      <td>White</td>\n",
       "    </tr>\n",
       "    <tr>\n",
       "      <th>2</th>\n",
       "      <td>8.1</td>\n",
       "      <td>0.28</td>\n",
       "      <td>0.40</td>\n",
       "      <td>6.9</td>\n",
       "      <td>0.050</td>\n",
       "      <td>30.0</td>\n",
       "      <td>97.0</td>\n",
       "      <td>0.9951</td>\n",
       "      <td>3.26</td>\n",
       "      <td>0.44</td>\n",
       "      <td>10.1</td>\n",
       "      <td>6</td>\n",
       "      <td>White</td>\n",
       "    </tr>\n",
       "    <tr>\n",
       "      <th>3</th>\n",
       "      <td>7.2</td>\n",
       "      <td>0.23</td>\n",
       "      <td>0.32</td>\n",
       "      <td>8.5</td>\n",
       "      <td>0.058</td>\n",
       "      <td>47.0</td>\n",
       "      <td>186.0</td>\n",
       "      <td>0.9956</td>\n",
       "      <td>3.19</td>\n",
       "      <td>0.40</td>\n",
       "      <td>9.9</td>\n",
       "      <td>6</td>\n",
       "      <td>White</td>\n",
       "    </tr>\n",
       "    <tr>\n",
       "      <th>4</th>\n",
       "      <td>7.2</td>\n",
       "      <td>0.23</td>\n",
       "      <td>0.32</td>\n",
       "      <td>8.5</td>\n",
       "      <td>0.058</td>\n",
       "      <td>47.0</td>\n",
       "      <td>186.0</td>\n",
       "      <td>0.9956</td>\n",
       "      <td>3.19</td>\n",
       "      <td>0.40</td>\n",
       "      <td>9.9</td>\n",
       "      <td>6</td>\n",
       "      <td>White</td>\n",
       "    </tr>\n",
       "  </tbody>\n",
       "</table>\n",
       "</div>"
      ],
      "text/plain": [
       "   fixed acidity  volatile acidity  citric acid  residual sugar  chlorides  \\\n",
       "0            7.0              0.27         0.36            20.7      0.045   \n",
       "1            6.3              0.30         0.34             1.6      0.049   \n",
       "2            8.1              0.28         0.40             6.9      0.050   \n",
       "3            7.2              0.23         0.32             8.5      0.058   \n",
       "4            7.2              0.23         0.32             8.5      0.058   \n",
       "\n",
       "   free sulfur dioxide  total sulfur dioxide  density    pH  sulphates  \\\n",
       "0                 45.0                 170.0   1.0010  3.00       0.45   \n",
       "1                 14.0                 132.0   0.9940  3.30       0.49   \n",
       "2                 30.0                  97.0   0.9951  3.26       0.44   \n",
       "3                 47.0                 186.0   0.9956  3.19       0.40   \n",
       "4                 47.0                 186.0   0.9956  3.19       0.40   \n",
       "\n",
       "   alcohol  quality wine type  \n",
       "0      8.8        6     White  \n",
       "1      9.5        6     White  \n",
       "2     10.1        6     White  \n",
       "3      9.9        6     White  \n",
       "4      9.9        6     White  "
      ]
     },
     "execution_count": 3,
     "metadata": {},
     "output_type": "execute_result"
    }
   ],
   "source": [
    "df.head()"
   ]
  },
  {
   "cell_type": "code",
   "execution_count": 4,
   "metadata": {},
   "outputs": [],
   "source": [
    "df['quality']=pd.to_numeric(df['quality'])\n",
    "\n",
    "df['test']=0"
   ]
  },
  {
   "cell_type": "code",
   "execution_count": 5,
   "metadata": {},
   "outputs": [
    {
     "name": "stderr",
     "output_type": "stream",
     "text": [
      "/Users/liz/anaconda3/lib/python3.7/site-packages/ipykernel_launcher.py:3: SettingWithCopyWarning: \n",
      "A value is trying to be set on a copy of a slice from a DataFrame\n",
      "\n",
      "See the caveats in the documentation: http://pandas.pydata.org/pandas-docs/stable/indexing.html#indexing-view-versus-copy\n",
      "  This is separate from the ipykernel package so we can avoid doing imports until\n"
     ]
    }
   ],
   "source": [
    "\n",
    "mask = (df['quality']>7)\n",
    "\n",
    "df['test'][mask] = 1"
   ]
  },
  {
   "cell_type": "code",
   "execution_count": 64,
   "metadata": {},
   "outputs": [
    {
     "data": {
      "text/html": [
       "<div>\n",
       "<style scoped>\n",
       "    .dataframe tbody tr th:only-of-type {\n",
       "        vertical-align: middle;\n",
       "    }\n",
       "\n",
       "    .dataframe tbody tr th {\n",
       "        vertical-align: top;\n",
       "    }\n",
       "\n",
       "    .dataframe thead tr th {\n",
       "        text-align: left;\n",
       "    }\n",
       "\n",
       "    .dataframe thead tr:last-of-type th {\n",
       "        text-align: right;\n",
       "    }\n",
       "</style>\n",
       "<table border=\"1\" class=\"dataframe\">\n",
       "  <thead>\n",
       "    <tr>\n",
       "      <th></th>\n",
       "      <th colspan=\"8\" halign=\"left\">fixed acidity</th>\n",
       "      <th colspan=\"2\" halign=\"left\">volatile acidity</th>\n",
       "      <th>...</th>\n",
       "      <th colspan=\"2\" halign=\"left\">alcohol</th>\n",
       "      <th colspan=\"8\" halign=\"left\">wine type_White</th>\n",
       "    </tr>\n",
       "    <tr>\n",
       "      <th></th>\n",
       "      <th>count</th>\n",
       "      <th>mean</th>\n",
       "      <th>std</th>\n",
       "      <th>min</th>\n",
       "      <th>25%</th>\n",
       "      <th>50%</th>\n",
       "      <th>75%</th>\n",
       "      <th>max</th>\n",
       "      <th>count</th>\n",
       "      <th>mean</th>\n",
       "      <th>...</th>\n",
       "      <th>75%</th>\n",
       "      <th>max</th>\n",
       "      <th>count</th>\n",
       "      <th>mean</th>\n",
       "      <th>std</th>\n",
       "      <th>min</th>\n",
       "      <th>25%</th>\n",
       "      <th>50%</th>\n",
       "      <th>75%</th>\n",
       "      <th>max</th>\n",
       "    </tr>\n",
       "    <tr>\n",
       "      <th>test</th>\n",
       "      <th></th>\n",
       "      <th></th>\n",
       "      <th></th>\n",
       "      <th></th>\n",
       "      <th></th>\n",
       "      <th></th>\n",
       "      <th></th>\n",
       "      <th></th>\n",
       "      <th></th>\n",
       "      <th></th>\n",
       "      <th></th>\n",
       "      <th></th>\n",
       "      <th></th>\n",
       "      <th></th>\n",
       "      <th></th>\n",
       "      <th></th>\n",
       "      <th></th>\n",
       "      <th></th>\n",
       "      <th></th>\n",
       "      <th></th>\n",
       "      <th></th>\n",
       "    </tr>\n",
       "  </thead>\n",
       "  <tbody>\n",
       "    <tr>\n",
       "      <th>0</th>\n",
       "      <td>6299.0</td>\n",
       "      <td>7.22679</td>\n",
       "      <td>1.299327</td>\n",
       "      <td>3.8</td>\n",
       "      <td>6.4</td>\n",
       "      <td>7.0</td>\n",
       "      <td>7.7</td>\n",
       "      <td>15.9</td>\n",
       "      <td>6299.0</td>\n",
       "      <td>0.341190</td>\n",
       "      <td>...</td>\n",
       "      <td>11.2</td>\n",
       "      <td>14.9</td>\n",
       "      <td>6299.0</td>\n",
       "      <td>0.749008</td>\n",
       "      <td>0.433618</td>\n",
       "      <td>0.0</td>\n",
       "      <td>0.0</td>\n",
       "      <td>1.0</td>\n",
       "      <td>1.0</td>\n",
       "      <td>1.0</td>\n",
       "    </tr>\n",
       "    <tr>\n",
       "      <th>1</th>\n",
       "      <td>198.0</td>\n",
       "      <td>6.85000</td>\n",
       "      <td>1.144918</td>\n",
       "      <td>3.9</td>\n",
       "      <td>6.2</td>\n",
       "      <td>6.8</td>\n",
       "      <td>7.3</td>\n",
       "      <td>12.6</td>\n",
       "      <td>198.0</td>\n",
       "      <td>0.291187</td>\n",
       "      <td>...</td>\n",
       "      <td>12.6</td>\n",
       "      <td>14.0</td>\n",
       "      <td>198.0</td>\n",
       "      <td>0.909091</td>\n",
       "      <td>0.288209</td>\n",
       "      <td>0.0</td>\n",
       "      <td>1.0</td>\n",
       "      <td>1.0</td>\n",
       "      <td>1.0</td>\n",
       "      <td>1.0</td>\n",
       "    </tr>\n",
       "  </tbody>\n",
       "</table>\n",
       "<p>2 rows × 96 columns</p>\n",
       "</div>"
      ],
      "text/plain": [
       "     fixed acidity                                               \\\n",
       "             count     mean       std  min  25%  50%  75%   max   \n",
       "test                                                              \n",
       "0           6299.0  7.22679  1.299327  3.8  6.4  7.0  7.7  15.9   \n",
       "1            198.0  6.85000  1.144918  3.9  6.2  6.8  7.3  12.6   \n",
       "\n",
       "     volatile acidity            ... alcohol       wine type_White            \\\n",
       "                count      mean  ...     75%   max           count      mean   \n",
       "test                             ...                                           \n",
       "0              6299.0  0.341190  ...    11.2  14.9          6299.0  0.749008   \n",
       "1               198.0  0.291187  ...    12.6  14.0           198.0  0.909091   \n",
       "\n",
       "                                         \n",
       "           std  min  25%  50%  75%  max  \n",
       "test                                     \n",
       "0     0.433618  0.0  0.0  1.0  1.0  1.0  \n",
       "1     0.288209  0.0  1.0  1.0  1.0  1.0  \n",
       "\n",
       "[2 rows x 96 columns]"
      ]
     },
     "execution_count": 64,
     "metadata": {},
     "output_type": "execute_result"
    }
   ],
   "source": [
    "df.groupby('test').describe()"
   ]
  },
  {
   "cell_type": "code",
   "execution_count": 6,
   "metadata": {},
   "outputs": [],
   "source": [
    "target = 'test'"
   ]
  },
  {
   "cell_type": "code",
   "execution_count": 7,
   "metadata": {},
   "outputs": [],
   "source": [
    "df = df.drop('quality', axis=1)"
   ]
  },
  {
   "cell_type": "markdown",
   "metadata": {},
   "source": [
    "### Read data"
   ]
  },
  {
   "cell_type": "code",
   "execution_count": 31,
   "metadata": {},
   "outputs": [],
   "source": [
    "df.to_csv(r'wine_target.csv')"
   ]
  },
  {
   "cell_type": "code",
   "execution_count": 8,
   "metadata": {},
   "outputs": [],
   "source": [
    "df = pd.get_dummies(df, columns=['wine type'])\n"
   ]
  },
  {
   "cell_type": "code",
   "execution_count": 9,
   "metadata": {},
   "outputs": [],
   "source": [
    "df = df.drop('wine type_Red', axis=1)"
   ]
  },
  {
   "cell_type": "markdown",
   "metadata": {},
   "source": [
    "### Set-up X and y"
   ]
  },
  {
   "cell_type": "code",
   "execution_count": 10,
   "metadata": {},
   "outputs": [],
   "source": [
    "y = df[target]\n",
    "X = df.drop(target, axis=1)\n",
    "\n"
   ]
  },
  {
   "cell_type": "markdown",
   "metadata": {},
   "source": [
    "### Split the data\n"
   ]
  },
  {
   "cell_type": "code",
   "execution_count": 11,
   "metadata": {},
   "outputs": [
    {
     "data": {
      "text/plain": [
       "(3248, 3249)"
      ]
     },
     "execution_count": 11,
     "metadata": {},
     "output_type": "execute_result"
    }
   ],
   "source": [
    "X_train, X_test, y_train, y_test = train_test_split(X, y, test_size=0.5, random_state=314)\n",
    "\n",
    "len(X_train), len(X_test)"
   ]
  },
  {
   "cell_type": "markdown",
   "metadata": {},
   "source": [
    "**EXERCISE:**\n",
    "    \n",
    "Perform a random-search to optimize the following hyperparameters for a *Gradient Boosting* model.\n",
    "\n",
    "Number of trees: `n_estimators = [100, 300, 500]`\n",
    "\n",
    "Learning rate: `learning_rate = [0.05, 0.1, .5]`\n",
    "\n",
    "Maximum number of levels in tree: `max_depth = [3, 6]`\n",
    "\n",
    "Minimum percentage of samples required in the leaf nodes: `min_samples_leaf = [0.01, 0.02, 0.05]`\n"
   ]
  },
  {
   "cell_type": "code",
   "execution_count": 65,
   "metadata": {},
   "outputs": [
    {
     "name": "stdout",
     "output_type": "stream",
     "text": [
      "Best GBM Parameters: {'n_estimators': 100, 'min_samples_leaf': 0.01, 'max_depth': 9, 'learning_rate': 0.05}\n"
     ]
    }
   ],
   "source": [
    "from sklearn.ensemble import GradientBoostingClassifier\n",
    "\n",
    "gbm = GradientBoostingClassifier(random_state=314)\n",
    "\n",
    "param_grid = {'n_estimators': [100, 300, 500,1000], \n",
    "              'learning_rate': [.025, 0.05, .25, 0.5],\n",
    "              'max_depth': [3, 6, 9, 12],\n",
    "              'min_samples_leaf': [0.01, 0.02, 0.05,.1]}\n",
    "gbm_rs = RandomizedSearchCV(gbm, param_grid, cv=3, n_iter=100, n_jobs=-1, random_state=314)\n",
    "\n",
    "gbm_rs.fit(X_train, y_train)\n",
    "print ('Best GBM Parameters:', gbm_rs.best_params_)\n",
    "\n",
    "gbm_scores_train = gbm_rs.predict_proba(X_train)[:, 1]\n",
    "gbm_scores_test = gbm_rs.predict_proba(X_test)[:, 1]\n",
    "\n",
    "gbm_fpr_train, gbm_tpr_train, _ = roc_curve(y_train, gbm_scores_train)\n",
    "gbm_fpr_test, gbm_tpr_test, _ = roc_curve(y_test, gbm_scores_test)"
   ]
  },
  {
   "cell_type": "code",
   "execution_count": 51,
   "metadata": {},
   "outputs": [
    {
     "name": "stdout",
     "output_type": "stream",
     "text": [
      "Fitting 3 folds for each of 256 candidates, totalling 768 fits\n"
     ]
    },
    {
     "name": "stderr",
     "output_type": "stream",
     "text": [
      "[Parallel(n_jobs=-1)]: Using backend LokyBackend with 8 concurrent workers.\n",
      "[Parallel(n_jobs=-1)]: Done  34 tasks      | elapsed:    4.1s\n",
      "[Parallel(n_jobs=-1)]: Done 168 tasks      | elapsed:   40.5s\n",
      "[Parallel(n_jobs=-1)]: Done 371 tasks      | elapsed:  1.5min\n",
      "[Parallel(n_jobs=-1)]: Done 654 tasks      | elapsed:  2.0min\n",
      "[Parallel(n_jobs=-1)]: Done 768 out of 768 | elapsed:  2.2min finished\n"
     ]
    },
    {
     "name": "stdout",
     "output_type": "stream",
     "text": [
      "Best GBM Parameters: {'learning_rate': 0.025, 'max_depth': 9, 'min_samples_leaf': 0.01, 'n_estimators': 300}\n"
     ]
    }
   ],
   "source": [
    "#compare with complete grid search. Takes 2.2 minutes. Just stick with random search.\n",
    "#gbm_gs = GridSearchCV(gbm, param_grid, cv=3, verbose=2, n_jobs=-1)\n",
    "\n",
    "#gbm_gs.fit(X_train, y_train)\n",
    "#print ('Best GBM Parameters:', gbm_gs.best_params_)\n",
    "\n",
    "#gbm_scores_train = gbm_gs.predict_proba(X_train)[:, 1]\n",
    "#gbm_scores_test = gbm_gs.predict_proba(X_test)[:, 1]\n",
    "\n",
    "#gbm_fpr_train, gbm_tpr_train, _ = roc_curve(y_train, gbm_scores_train)\n",
    "#gbm_fpr_test, gbm_tpr_test, _ = roc_curve(y_test, gbm_scores_test)"
   ]
  },
  {
   "cell_type": "code",
   "execution_count": 66,
   "metadata": {},
   "outputs": [
    {
     "data": {
      "image/png": "[encoded data removed]",
      "text/plain": [
       "<Figure size 864x648 with 1 Axes>"
      ]
     },
     "metadata": {},
     "output_type": "display_data"
    }
   ],
   "source": [
    "# ROC Curve\n",
    "#The AUC for the train model is 1, so it is not visible on the chart.\n",
    "plt.figure().set_size_inches(12, 9)\n",
    "\n",
    "plt.plot(gbm_fpr_train, gbm_tpr_train, color='purple', lw=2, alpha = 0.2, linestyle = '-',\n",
    "         label=f'GBM Train (AUC = {roc_auc_score(y_train, gbm_scores_train):0.3f})')\n",
    "\n",
    "plt.plot(gbm_fpr_test, gbm_tpr_test, color='purple', lw=2, linestyle = '-',\n",
    "         label=f'GBM Test (AUC = {roc_auc_score(y_test, gbm_scores_test):0.3f})')\n",
    "\n",
    "\n",
    "plt.plot([0, 1], [0, 1], color='gray', lw=1, linestyle='--')\n",
    "plt.xlim([0.0, 1.0])\n",
    "plt.ylim([0.0, 1.0])\n",
    "plt.xlabel('False Positive Rate', fontsize = 14)\n",
    "plt.ylabel('True Positive Rate', fontsize = 14)\n",
    "plt.title('Default Risk Model: Gradient Boosting', fontsize = 16)\n",
    "plt.legend(loc='lower right', fontsize = 14)\n",
    "plt.show();"
   ]
  },
  {
   "cell_type": "code",
   "execution_count": 67,
   "metadata": {},
   "outputs": [
    {
     "data": {
      "text/plain": [
       "1.0"
      ]
     },
     "execution_count": 67,
     "metadata": {},
     "output_type": "execute_result"
    }
   ],
   "source": [
    "gbm_scores_train = gbm_rs.predict_proba(X_train)[:, 1]\n",
    "\n",
    "roc_auc_score(y_train, gbm_scores_train)\n",
    "\n"
   ]
  },
  {
   "cell_type": "code",
   "execution_count": 68,
   "metadata": {},
   "outputs": [
    {
     "data": {
      "text/plain": [
       "0.8788094655741714"
      ]
     },
     "execution_count": 68,
     "metadata": {},
     "output_type": "execute_result"
    }
   ],
   "source": [
    "gbm_scores_test = gbm_rs.predict_proba(X_test)[:, 1]\n",
    "\n",
    "\n",
    "roc_auc_score(y_test, gbm_scores_test)"
   ]
  },
  {
   "cell_type": "code",
   "execution_count": 74,
   "metadata": {},
   "outputs": [
    {
     "data": {
      "text/plain": [
       "0.8442513295375303"
      ]
     },
     "execution_count": 74,
     "metadata": {},
     "output_type": "execute_result"
    }
   ],
   "source": [
    "gbm_rs.predict_proba(X_test)[:, 1].max()"
   ]
  },
  {
   "cell_type": "markdown",
   "metadata": {},
   "source": [
    "## Score Entire Dataset"
   ]
  },
  {
   "cell_type": "code",
   "execution_count": 76,
   "metadata": {},
   "outputs": [],
   "source": [
    "\n",
    "gbm = GradientBoostingClassifier(random_state=314,n_estimators = 100, min_samples_leaf= 0.01, max_depth= 9, learning_rate = 0.05)\n",
    "\n",
    "gbm.fit(X, y)\n",
    "\n",
    "gbm_scores_final = gbm.predict_proba(X)[:, 1]\n",
    "\n",
    "gbm_fpr_final, gbm_tpr_final, _ = roc_curve(y, gbm_scores_final)\n"
   ]
  },
  {
   "cell_type": "code",
   "execution_count": 77,
   "metadata": {},
   "outputs": [
    {
     "data": {
      "text/plain": [
       "0.9413663544477959"
      ]
     },
     "execution_count": 77,
     "metadata": {},
     "output_type": "execute_result"
    }
   ],
   "source": [
    "gbm_scores_final = gbm_rs.predict_proba(X)[:, 1]\n",
    "\n",
    "roc_auc_score(y, gbm_scores_final)\n"
   ]
  },
  {
   "cell_type": "code",
   "execution_count": 78,
   "metadata": {},
   "outputs": [],
   "source": [
    "y_preds = gbm_rs.predict(X)\n"
   ]
  },
  {
   "cell_type": "code",
   "execution_count": 79,
   "metadata": {},
   "outputs": [
    {
     "data": {
      "text/plain": [
       "array([[6294,    5],\n",
       "       [ 102,   96]])"
      ]
     },
     "execution_count": 79,
     "metadata": {},
     "output_type": "execute_result"
    }
   ],
   "source": [
    "from sklearn.metrics import confusion_matrix\n",
    "confusion_matrix(y,y_preds)"
   ]
  },
  {
   "cell_type": "code",
   "execution_count": 80,
   "metadata": {},
   "outputs": [
    {
     "data": {
      "text/plain": [
       "array([0.0030845 , 0.0016466 , 0.00207292, ..., 0.00157595, 0.00123153,\n",
       "       0.00459634])"
      ]
     },
     "execution_count": 80,
     "metadata": {},
     "output_type": "execute_result"
    }
   ],
   "source": [
    "gbm_rs.predict_proba(X)[:, 1]"
   ]
  },
  {
   "cell_type": "code",
   "execution_count": 81,
   "metadata": {
    "scrolled": true
   },
   "outputs": [
    {
     "data": {
      "text/html": [
       "<div>\n",
       "<style scoped>\n",
       "    .dataframe tbody tr th:only-of-type {\n",
       "        vertical-align: middle;\n",
       "    }\n",
       "\n",
       "    .dataframe tbody tr th {\n",
       "        vertical-align: top;\n",
       "    }\n",
       "\n",
       "    .dataframe thead th {\n",
       "        text-align: right;\n",
       "    }\n",
       "</style>\n",
       "<table border=\"1\" class=\"dataframe\">\n",
       "  <thead>\n",
       "    <tr style=\"text-align: right;\">\n",
       "      <th></th>\n",
       "      <th>Scores</th>\n",
       "    </tr>\n",
       "  </thead>\n",
       "  <tbody>\n",
       "    <tr>\n",
       "      <th>0</th>\n",
       "      <td>0.003085</td>\n",
       "    </tr>\n",
       "    <tr>\n",
       "      <th>1</th>\n",
       "      <td>0.001647</td>\n",
       "    </tr>\n",
       "    <tr>\n",
       "      <th>2</th>\n",
       "      <td>0.002073</td>\n",
       "    </tr>\n",
       "    <tr>\n",
       "      <th>3</th>\n",
       "      <td>0.003521</td>\n",
       "    </tr>\n",
       "    <tr>\n",
       "      <th>4</th>\n",
       "      <td>0.003521</td>\n",
       "    </tr>\n",
       "  </tbody>\n",
       "</table>\n",
       "</div>"
      ],
      "text/plain": [
       "     Scores\n",
       "0  0.003085\n",
       "1  0.001647\n",
       "2  0.002073\n",
       "3  0.003521\n",
       "4  0.003521"
      ]
     },
     "execution_count": 81,
     "metadata": {},
     "output_type": "execute_result"
    }
   ],
   "source": [
    "gbm_col= pd.DataFrame({\"Scores\":gbm_scores_final})\n"
   ]
  },
  {
   "cell_type": "code",
   "execution_count": 82,
   "metadata": {},
   "outputs": [],
   "source": [
    "df_scores = df.join(gbm_col)"
   ]
  },
  {
   "cell_type": "code",
   "execution_count": 83,
   "metadata": {},
   "outputs": [
    {
     "data": {
      "text/html": [
       "<div>\n",
       "<style scoped>\n",
       "    .dataframe tbody tr th:only-of-type {\n",
       "        vertical-align: middle;\n",
       "    }\n",
       "\n",
       "    .dataframe tbody tr th {\n",
       "        vertical-align: top;\n",
       "    }\n",
       "\n",
       "    .dataframe thead th {\n",
       "        text-align: right;\n",
       "    }\n",
       "</style>\n",
       "<table border=\"1\" class=\"dataframe\">\n",
       "  <thead>\n",
       "    <tr style=\"text-align: right;\">\n",
       "      <th></th>\n",
       "      <th>fixed acidity</th>\n",
       "      <th>volatile acidity</th>\n",
       "      <th>citric acid</th>\n",
       "      <th>residual sugar</th>\n",
       "      <th>chlorides</th>\n",
       "      <th>free sulfur dioxide</th>\n",
       "      <th>total sulfur dioxide</th>\n",
       "      <th>density</th>\n",
       "      <th>pH</th>\n",
       "      <th>sulphates</th>\n",
       "      <th>alcohol</th>\n",
       "      <th>test</th>\n",
       "      <th>wine type_White</th>\n",
       "      <th>Scores</th>\n",
       "      <th>decile</th>\n",
       "    </tr>\n",
       "  </thead>\n",
       "  <tbody>\n",
       "    <tr>\n",
       "      <th>4239</th>\n",
       "      <td>5.7</td>\n",
       "      <td>0.28</td>\n",
       "      <td>0.36</td>\n",
       "      <td>1.8</td>\n",
       "      <td>0.041</td>\n",
       "      <td>38.0</td>\n",
       "      <td>90.0</td>\n",
       "      <td>0.99002</td>\n",
       "      <td>3.27</td>\n",
       "      <td>0.98</td>\n",
       "      <td>11.9</td>\n",
       "      <td>0</td>\n",
       "      <td>1</td>\n",
       "      <td>0.109215</td>\n",
       "      <td>1</td>\n",
       "    </tr>\n",
       "    <tr>\n",
       "      <th>1287</th>\n",
       "      <td>8.3</td>\n",
       "      <td>0.21</td>\n",
       "      <td>0.40</td>\n",
       "      <td>1.6</td>\n",
       "      <td>0.032</td>\n",
       "      <td>35.0</td>\n",
       "      <td>110.0</td>\n",
       "      <td>0.99070</td>\n",
       "      <td>3.02</td>\n",
       "      <td>0.60</td>\n",
       "      <td>12.9</td>\n",
       "      <td>0</td>\n",
       "      <td>1</td>\n",
       "      <td>0.080342</td>\n",
       "      <td>1</td>\n",
       "    </tr>\n",
       "    <tr>\n",
       "      <th>1289</th>\n",
       "      <td>6.6</td>\n",
       "      <td>0.16</td>\n",
       "      <td>0.30</td>\n",
       "      <td>1.6</td>\n",
       "      <td>0.034</td>\n",
       "      <td>15.0</td>\n",
       "      <td>78.0</td>\n",
       "      <td>0.99200</td>\n",
       "      <td>3.38</td>\n",
       "      <td>0.44</td>\n",
       "      <td>11.2</td>\n",
       "      <td>0</td>\n",
       "      <td>1</td>\n",
       "      <td>0.061154</td>\n",
       "      <td>1</td>\n",
       "    </tr>\n",
       "    <tr>\n",
       "      <th>2979</th>\n",
       "      <td>6.7</td>\n",
       "      <td>0.36</td>\n",
       "      <td>0.26</td>\n",
       "      <td>7.9</td>\n",
       "      <td>0.034</td>\n",
       "      <td>39.0</td>\n",
       "      <td>123.0</td>\n",
       "      <td>0.99119</td>\n",
       "      <td>2.99</td>\n",
       "      <td>0.30</td>\n",
       "      <td>12.2</td>\n",
       "      <td>0</td>\n",
       "      <td>1</td>\n",
       "      <td>0.251473</td>\n",
       "      <td>1</td>\n",
       "    </tr>\n",
       "    <tr>\n",
       "      <th>1297</th>\n",
       "      <td>7.3</td>\n",
       "      <td>0.42</td>\n",
       "      <td>0.38</td>\n",
       "      <td>6.8</td>\n",
       "      <td>0.045</td>\n",
       "      <td>29.0</td>\n",
       "      <td>122.0</td>\n",
       "      <td>0.99250</td>\n",
       "      <td>3.19</td>\n",
       "      <td>0.37</td>\n",
       "      <td>12.6</td>\n",
       "      <td>0</td>\n",
       "      <td>1</td>\n",
       "      <td>0.114898</td>\n",
       "      <td>1</td>\n",
       "    </tr>\n",
       "  </tbody>\n",
       "</table>\n",
       "</div>"
      ],
      "text/plain": [
       "      fixed acidity  volatile acidity  citric acid  residual sugar  chlorides  \\\n",
       "4239            5.7              0.28         0.36             1.8      0.041   \n",
       "1287            8.3              0.21         0.40             1.6      0.032   \n",
       "1289            6.6              0.16         0.30             1.6      0.034   \n",
       "2979            6.7              0.36         0.26             7.9      0.034   \n",
       "1297            7.3              0.42         0.38             6.8      0.045   \n",
       "\n",
       "      free sulfur dioxide  total sulfur dioxide  density    pH  sulphates  \\\n",
       "4239                 38.0                  90.0  0.99002  3.27       0.98   \n",
       "1287                 35.0                 110.0  0.99070  3.02       0.60   \n",
       "1289                 15.0                  78.0  0.99200  3.38       0.44   \n",
       "2979                 39.0                 123.0  0.99119  2.99       0.30   \n",
       "1297                 29.0                 122.0  0.99250  3.19       0.37   \n",
       "\n",
       "      alcohol  test  wine type_White    Scores decile  \n",
       "4239     11.9     0                1  0.109215      1  \n",
       "1287     12.9     0                1  0.080342      1  \n",
       "1289     11.2     0                1  0.061154      1  \n",
       "2979     12.2     0                1  0.251473      1  \n",
       "1297     12.6     0                1  0.114898      1  "
      ]
     },
     "execution_count": 83,
     "metadata": {},
     "output_type": "execute_result"
    }
   ],
   "source": [
    "df_scores['decile'] = pd.qcut(df_scores['Scores'], 10, labels=np.arange(10, 0, -1))\n",
    "df_scores.sort_values(['decile'],ascending=False).head()"
   ]
  },
  {
   "cell_type": "code",
   "execution_count": 84,
   "metadata": {},
   "outputs": [],
   "source": [
    "df_scores_info= df_scores.groupby('decile')['Scores'].describe()\n",
    "\n",
    "df_model_summary = df_scores_info.rename(columns = {\"count\": \"Num. Records\", \n",
    "                                  \"mean\":\"Avg. Score\", \n",
    "                                  \"min\": \"Min Score\",\n",
    "                                  \"max\": \"Max Score\" })\n",
    "df_model_summary = df_model_summary.drop(['std','25%','50%','75%'],axis=1)"
   ]
  },
  {
   "cell_type": "code",
   "execution_count": 85,
   "metadata": {},
   "outputs": [],
   "source": [
    "df_model_summary['Pect of Total Records'] = df_model_summary['Num. Records']/len(df_scores)"
   ]
  },
  {
   "cell_type": "code",
   "execution_count": 86,
   "metadata": {},
   "outputs": [],
   "source": [
    "#note: the final model does not predict any positives\n",
    "pred_class_one = pd.DataFrame(df_scores[df_scores['Scores']>=.5].groupby('decile')['Scores'].describe()['count'])\n",
    "pred_class_one['Predict 1 Count'] = pred_class_one['count']\n",
    "pred_class_one = pred_class_one.drop('count',axis=1)\n"
   ]
  },
  {
   "cell_type": "code",
   "execution_count": 87,
   "metadata": {},
   "outputs": [],
   "source": [
    "high_quality_one = pd.DataFrame(df_scores[df_scores['test']==1].groupby('decile')['test'].describe()['count'])\n",
    "high_quality_one['Actual HQ Count'] = high_quality_one['count']\n",
    "high_quality_one = high_quality_one.drop('count',axis=1)\n"
   ]
  },
  {
   "cell_type": "code",
   "execution_count": 88,
   "metadata": {},
   "outputs": [
    {
     "data": {
      "text/html": [
       "<div>\n",
       "<style scoped>\n",
       "    .dataframe tbody tr th:only-of-type {\n",
       "        vertical-align: middle;\n",
       "    }\n",
       "\n",
       "    .dataframe tbody tr th {\n",
       "        vertical-align: top;\n",
       "    }\n",
       "\n",
       "    .dataframe thead th {\n",
       "        text-align: right;\n",
       "    }\n",
       "</style>\n",
       "<table border=\"1\" class=\"dataframe\">\n",
       "  <thead>\n",
       "    <tr style=\"text-align: right;\">\n",
       "      <th></th>\n",
       "      <th>Num. Records</th>\n",
       "      <th>Avg. Score</th>\n",
       "      <th>Min Score</th>\n",
       "      <th>Max Score</th>\n",
       "      <th>Pect of Total Records</th>\n",
       "      <th>Predict 1 Count</th>\n",
       "      <th>Actual HQ Count</th>\n",
       "    </tr>\n",
       "    <tr>\n",
       "      <th>decile</th>\n",
       "      <th></th>\n",
       "      <th></th>\n",
       "      <th></th>\n",
       "      <th></th>\n",
       "      <th></th>\n",
       "      <th></th>\n",
       "      <th></th>\n",
       "    </tr>\n",
       "  </thead>\n",
       "  <tbody>\n",
       "    <tr>\n",
       "      <th>10</th>\n",
       "      <td>650.0</td>\n",
       "      <td>0.000961</td>\n",
       "      <td>0.000500</td>\n",
       "      <td>0.001153</td>\n",
       "      <td>0.100046</td>\n",
       "      <td>0.0</td>\n",
       "      <td>0.0</td>\n",
       "    </tr>\n",
       "    <tr>\n",
       "      <th>9</th>\n",
       "      <td>651.0</td>\n",
       "      <td>0.001339</td>\n",
       "      <td>0.001153</td>\n",
       "      <td>0.001515</td>\n",
       "      <td>0.100200</td>\n",
       "      <td>0.0</td>\n",
       "      <td>2.0</td>\n",
       "    </tr>\n",
       "    <tr>\n",
       "      <th>8</th>\n",
       "      <td>648.0</td>\n",
       "      <td>0.001729</td>\n",
       "      <td>0.001515</td>\n",
       "      <td>0.001954</td>\n",
       "      <td>0.099738</td>\n",
       "      <td>0.0</td>\n",
       "      <td>1.0</td>\n",
       "    </tr>\n",
       "    <tr>\n",
       "      <th>7</th>\n",
       "      <td>650.0</td>\n",
       "      <td>0.002235</td>\n",
       "      <td>0.001954</td>\n",
       "      <td>0.002585</td>\n",
       "      <td>0.100046</td>\n",
       "      <td>0.0</td>\n",
       "      <td>0.0</td>\n",
       "    </tr>\n",
       "    <tr>\n",
       "      <th>6</th>\n",
       "      <td>650.0</td>\n",
       "      <td>0.003042</td>\n",
       "      <td>0.002585</td>\n",
       "      <td>0.003642</td>\n",
       "      <td>0.100046</td>\n",
       "      <td>0.0</td>\n",
       "      <td>0.0</td>\n",
       "    </tr>\n",
       "    <tr>\n",
       "      <th>5</th>\n",
       "      <td>650.0</td>\n",
       "      <td>0.004561</td>\n",
       "      <td>0.003644</td>\n",
       "      <td>0.005564</td>\n",
       "      <td>0.100046</td>\n",
       "      <td>0.0</td>\n",
       "      <td>4.0</td>\n",
       "    </tr>\n",
       "    <tr>\n",
       "      <th>4</th>\n",
       "      <td>650.0</td>\n",
       "      <td>0.007025</td>\n",
       "      <td>0.005565</td>\n",
       "      <td>0.008881</td>\n",
       "      <td>0.100046</td>\n",
       "      <td>0.0</td>\n",
       "      <td>3.0</td>\n",
       "    </tr>\n",
       "    <tr>\n",
       "      <th>3</th>\n",
       "      <td>651.0</td>\n",
       "      <td>0.011939</td>\n",
       "      <td>0.008882</td>\n",
       "      <td>0.016257</td>\n",
       "      <td>0.100200</td>\n",
       "      <td>0.0</td>\n",
       "      <td>10.0</td>\n",
       "    </tr>\n",
       "    <tr>\n",
       "      <th>2</th>\n",
       "      <td>647.0</td>\n",
       "      <td>0.025655</td>\n",
       "      <td>0.016257</td>\n",
       "      <td>0.040288</td>\n",
       "      <td>0.099584</td>\n",
       "      <td>0.0</td>\n",
       "      <td>27.0</td>\n",
       "    </tr>\n",
       "    <tr>\n",
       "      <th>1</th>\n",
       "      <td>650.0</td>\n",
       "      <td>0.198375</td>\n",
       "      <td>0.040294</td>\n",
       "      <td>0.872956</td>\n",
       "      <td>0.100046</td>\n",
       "      <td>101.0</td>\n",
       "      <td>151.0</td>\n",
       "    </tr>\n",
       "  </tbody>\n",
       "</table>\n",
       "</div>"
      ],
      "text/plain": [
       "        Num. Records  Avg. Score  Min Score  Max Score  Pect of Total Records  \\\n",
       "decile                                                                          \n",
       "10             650.0    0.000961   0.000500   0.001153               0.100046   \n",
       "9              651.0    0.001339   0.001153   0.001515               0.100200   \n",
       "8              648.0    0.001729   0.001515   0.001954               0.099738   \n",
       "7              650.0    0.002235   0.001954   0.002585               0.100046   \n",
       "6              650.0    0.003042   0.002585   0.003642               0.100046   \n",
       "5              650.0    0.004561   0.003644   0.005564               0.100046   \n",
       "4              650.0    0.007025   0.005565   0.008881               0.100046   \n",
       "3              651.0    0.011939   0.008882   0.016257               0.100200   \n",
       "2              647.0    0.025655   0.016257   0.040288               0.099584   \n",
       "1              650.0    0.198375   0.040294   0.872956               0.100046   \n",
       "\n",
       "        Predict 1 Count  Actual HQ Count  \n",
       "decile                                    \n",
       "10                  0.0              0.0  \n",
       "9                   0.0              2.0  \n",
       "8                   0.0              1.0  \n",
       "7                   0.0              0.0  \n",
       "6                   0.0              0.0  \n",
       "5                   0.0              4.0  \n",
       "4                   0.0              3.0  \n",
       "3                   0.0             10.0  \n",
       "2                   0.0             27.0  \n",
       "1                 101.0            151.0  "
      ]
     },
     "execution_count": 88,
     "metadata": {},
     "output_type": "execute_result"
    }
   ],
   "source": [
    "df_scores_join = df_model_summary.join(pred_class_one).join(high_quality_one)\n",
    "df_scores_join"
   ]
  },
  {
   "cell_type": "code",
   "execution_count": 89,
   "metadata": {},
   "outputs": [],
   "source": [
    "df_scores_join['Predict 1 Perct'] = df_scores_join['Predict 1 Count']/df_scores_join['Num. Records']\n",
    "df_scores_join['Actual HQ Perct'] = df_scores_join['Actual HQ Count']/df_scores_join['Num. Records']\n"
   ]
  },
  {
   "cell_type": "code",
   "execution_count": 90,
   "metadata": {},
   "outputs": [
    {
     "name": "stderr",
     "output_type": "stream",
     "text": [
      "/Users/liz/anaconda3/lib/python3.7/site-packages/ipykernel_launcher.py:4: SettingWithCopyWarning: \n",
      "A value is trying to be set on a copy of a slice from a DataFrame.\n",
      "Try using .loc[row_indexer,col_indexer] = value instead\n",
      "\n",
      "See the caveats in the documentation: http://pandas.pydata.org/pandas-docs/stable/indexing.html#indexing-view-versus-copy\n",
      "  after removing the cwd from sys.path.\n"
     ]
    }
   ],
   "source": [
    "model_summary = df_scores_join[['Num. Records','Pect of Total Records','Avg. Score','Min Score','Max Score',\n",
    "                                'Predict 1 Count','Predict 1 Perct','Actual HQ Count','Actual HQ Perct']]\n",
    "\n",
    "model_summary['Lift']= model_summary['Predict 1 Count']/len(df_scores[df_scores['Scores']>=.5])"
   ]
  },
  {
   "cell_type": "code",
   "execution_count": 91,
   "metadata": {},
   "outputs": [
    {
     "data": {
      "text/html": [
       "<div>\n",
       "<style scoped>\n",
       "    .dataframe tbody tr th:only-of-type {\n",
       "        vertical-align: middle;\n",
       "    }\n",
       "\n",
       "    .dataframe tbody tr th {\n",
       "        vertical-align: top;\n",
       "    }\n",
       "\n",
       "    .dataframe thead th {\n",
       "        text-align: right;\n",
       "    }\n",
       "</style>\n",
       "<table border=\"1\" class=\"dataframe\">\n",
       "  <thead>\n",
       "    <tr style=\"text-align: right;\">\n",
       "      <th></th>\n",
       "      <th>Num. Records</th>\n",
       "      <th>Pect of Total Records</th>\n",
       "      <th>Avg. Score</th>\n",
       "      <th>Min Score</th>\n",
       "      <th>Max Score</th>\n",
       "      <th>Predict 1 Count</th>\n",
       "      <th>Predict 1 Perct</th>\n",
       "      <th>Actual HQ Count</th>\n",
       "      <th>Actual HQ Perct</th>\n",
       "      <th>Lift</th>\n",
       "    </tr>\n",
       "    <tr>\n",
       "      <th>decile</th>\n",
       "      <th></th>\n",
       "      <th></th>\n",
       "      <th></th>\n",
       "      <th></th>\n",
       "      <th></th>\n",
       "      <th></th>\n",
       "      <th></th>\n",
       "      <th></th>\n",
       "      <th></th>\n",
       "      <th></th>\n",
       "    </tr>\n",
       "  </thead>\n",
       "  <tbody>\n",
       "    <tr>\n",
       "      <th>10</th>\n",
       "      <td>650.0</td>\n",
       "      <td>0.100046</td>\n",
       "      <td>0.000961</td>\n",
       "      <td>0.000500</td>\n",
       "      <td>0.001153</td>\n",
       "      <td>0.0</td>\n",
       "      <td>0.000000</td>\n",
       "      <td>0.0</td>\n",
       "      <td>0.000000</td>\n",
       "      <td>0.0</td>\n",
       "    </tr>\n",
       "    <tr>\n",
       "      <th>9</th>\n",
       "      <td>651.0</td>\n",
       "      <td>0.100200</td>\n",
       "      <td>0.001339</td>\n",
       "      <td>0.001153</td>\n",
       "      <td>0.001515</td>\n",
       "      <td>0.0</td>\n",
       "      <td>0.000000</td>\n",
       "      <td>2.0</td>\n",
       "      <td>0.003072</td>\n",
       "      <td>0.0</td>\n",
       "    </tr>\n",
       "    <tr>\n",
       "      <th>8</th>\n",
       "      <td>648.0</td>\n",
       "      <td>0.099738</td>\n",
       "      <td>0.001729</td>\n",
       "      <td>0.001515</td>\n",
       "      <td>0.001954</td>\n",
       "      <td>0.0</td>\n",
       "      <td>0.000000</td>\n",
       "      <td>1.0</td>\n",
       "      <td>0.001543</td>\n",
       "      <td>0.0</td>\n",
       "    </tr>\n",
       "    <tr>\n",
       "      <th>7</th>\n",
       "      <td>650.0</td>\n",
       "      <td>0.100046</td>\n",
       "      <td>0.002235</td>\n",
       "      <td>0.001954</td>\n",
       "      <td>0.002585</td>\n",
       "      <td>0.0</td>\n",
       "      <td>0.000000</td>\n",
       "      <td>0.0</td>\n",
       "      <td>0.000000</td>\n",
       "      <td>0.0</td>\n",
       "    </tr>\n",
       "    <tr>\n",
       "      <th>6</th>\n",
       "      <td>650.0</td>\n",
       "      <td>0.100046</td>\n",
       "      <td>0.003042</td>\n",
       "      <td>0.002585</td>\n",
       "      <td>0.003642</td>\n",
       "      <td>0.0</td>\n",
       "      <td>0.000000</td>\n",
       "      <td>0.0</td>\n",
       "      <td>0.000000</td>\n",
       "      <td>0.0</td>\n",
       "    </tr>\n",
       "    <tr>\n",
       "      <th>5</th>\n",
       "      <td>650.0</td>\n",
       "      <td>0.100046</td>\n",
       "      <td>0.004561</td>\n",
       "      <td>0.003644</td>\n",
       "      <td>0.005564</td>\n",
       "      <td>0.0</td>\n",
       "      <td>0.000000</td>\n",
       "      <td>4.0</td>\n",
       "      <td>0.006154</td>\n",
       "      <td>0.0</td>\n",
       "    </tr>\n",
       "    <tr>\n",
       "      <th>4</th>\n",
       "      <td>650.0</td>\n",
       "      <td>0.100046</td>\n",
       "      <td>0.007025</td>\n",
       "      <td>0.005565</td>\n",
       "      <td>0.008881</td>\n",
       "      <td>0.0</td>\n",
       "      <td>0.000000</td>\n",
       "      <td>3.0</td>\n",
       "      <td>0.004615</td>\n",
       "      <td>0.0</td>\n",
       "    </tr>\n",
       "    <tr>\n",
       "      <th>3</th>\n",
       "      <td>651.0</td>\n",
       "      <td>0.100200</td>\n",
       "      <td>0.011939</td>\n",
       "      <td>0.008882</td>\n",
       "      <td>0.016257</td>\n",
       "      <td>0.0</td>\n",
       "      <td>0.000000</td>\n",
       "      <td>10.0</td>\n",
       "      <td>0.015361</td>\n",
       "      <td>0.0</td>\n",
       "    </tr>\n",
       "    <tr>\n",
       "      <th>2</th>\n",
       "      <td>647.0</td>\n",
       "      <td>0.099584</td>\n",
       "      <td>0.025655</td>\n",
       "      <td>0.016257</td>\n",
       "      <td>0.040288</td>\n",
       "      <td>0.0</td>\n",
       "      <td>0.000000</td>\n",
       "      <td>27.0</td>\n",
       "      <td>0.041731</td>\n",
       "      <td>0.0</td>\n",
       "    </tr>\n",
       "    <tr>\n",
       "      <th>1</th>\n",
       "      <td>650.0</td>\n",
       "      <td>0.100046</td>\n",
       "      <td>0.198375</td>\n",
       "      <td>0.040294</td>\n",
       "      <td>0.872956</td>\n",
       "      <td>101.0</td>\n",
       "      <td>0.155385</td>\n",
       "      <td>151.0</td>\n",
       "      <td>0.232308</td>\n",
       "      <td>1.0</td>\n",
       "    </tr>\n",
       "  </tbody>\n",
       "</table>\n",
       "</div>"
      ],
      "text/plain": [
       "        Num. Records  Pect of Total Records  Avg. Score  Min Score  Max Score  \\\n",
       "decile                                                                          \n",
       "10             650.0               0.100046    0.000961   0.000500   0.001153   \n",
       "9              651.0               0.100200    0.001339   0.001153   0.001515   \n",
       "8              648.0               0.099738    0.001729   0.001515   0.001954   \n",
       "7              650.0               0.100046    0.002235   0.001954   0.002585   \n",
       "6              650.0               0.100046    0.003042   0.002585   0.003642   \n",
       "5              650.0               0.100046    0.004561   0.003644   0.005564   \n",
       "4              650.0               0.100046    0.007025   0.005565   0.008881   \n",
       "3              651.0               0.100200    0.011939   0.008882   0.016257   \n",
       "2              647.0               0.099584    0.025655   0.016257   0.040288   \n",
       "1              650.0               0.100046    0.198375   0.040294   0.872956   \n",
       "\n",
       "        Predict 1 Count  Predict 1 Perct  Actual HQ Count  Actual HQ Perct  \\\n",
       "decile                                                                       \n",
       "10                  0.0         0.000000              0.0         0.000000   \n",
       "9                   0.0         0.000000              2.0         0.003072   \n",
       "8                   0.0         0.000000              1.0         0.001543   \n",
       "7                   0.0         0.000000              0.0         0.000000   \n",
       "6                   0.0         0.000000              0.0         0.000000   \n",
       "5                   0.0         0.000000              4.0         0.006154   \n",
       "4                   0.0         0.000000              3.0         0.004615   \n",
       "3                   0.0         0.000000             10.0         0.015361   \n",
       "2                   0.0         0.000000             27.0         0.041731   \n",
       "1                 101.0         0.155385            151.0         0.232308   \n",
       "\n",
       "        Lift  \n",
       "decile        \n",
       "10       0.0  \n",
       "9        0.0  \n",
       "8        0.0  \n",
       "7        0.0  \n",
       "6        0.0  \n",
       "5        0.0  \n",
       "4        0.0  \n",
       "3        0.0  \n",
       "2        0.0  \n",
       "1        1.0  "
      ]
     },
     "execution_count": 91,
     "metadata": {},
     "output_type": "execute_result"
    }
   ],
   "source": [
    "model_summary\n",
    "    "
   ]
  }
 ],
 "metadata": {
  "kernelspec": {
   "display_name": "Python 3",
   "language": "python",
   "name": "python3"
  },
  "language_info": {
   "codemirror_mode": {
    "name": "ipython",
    "version": 3
   },
   "file_extension": ".py",
   "mimetype": "text/x-python",
   "name": "python",
   "nbconvert_exporter": "python",
   "pygments_lexer": "ipython3",
   "version": "3.7.3"
  }
 },
 "nbformat": 4,
 "nbformat_minor": 4
}
