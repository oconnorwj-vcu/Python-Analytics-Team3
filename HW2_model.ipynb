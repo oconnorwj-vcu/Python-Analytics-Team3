{
 "cells": [
  {
   "cell_type": "markdown",
   "metadata": {},
   "source": [
    "### Import packages"
   ]
  },
  {
   "cell_type": "code",
   "execution_count": 64,
   "metadata": {},
   "outputs": [],
   "source": [
    "import pandas as pd\n",
    "from datetime import date\n",
    "import matplotlib.pyplot as plt\n",
    "import seaborn as sns"
   ]
  },
  {
   "cell_type": "markdown",
   "metadata": {},
   "source": [
    "### Set-up"
   ]
  },
  {
   "cell_type": "markdown",
   "metadata": {},
   "source": [
    "For this expercise, we will utilize two files (listed below) from the 'Brazilian E-Commerce Public Dataset' originally posted on [Kaggle]( https://www.kaggle.com/olistbr/brazilian-ecommerce)."
   ]
  },
  {
   "cell_type": "code",
   "execution_count": 65,
   "metadata": {},
   "outputs": [],
   "source": [
    "# full path of the 'orders' dataset\n",
    "orders_file = 'https://bitbucket.org/vishal_derive/vcu-data-mining/raw/11253d9f443241b3ce5949802966a80de73af1db/data/olist_orders_dataset.csv'\n",
    "\n",
    "# full path of the 'customer' dataset\n",
    "cust_file = 'https://bitbucket.org/vishal_derive/vcu-data-mining/raw/11253d9f443241b3ce5949802966a80de73af1db/data/olist_customers_dataset.csv'\n",
    "\n",
    "payments_file = 'https://bitbucket.org/vishal_derive/vcu-data-mining/raw/aedab41b6b30a19db9c72e5b82755a118f847d87/data/olist_order_payments_dataset.csv'\n"
   ]
  },
  {
   "cell_type": "markdown",
   "metadata": {},
   "source": [
    "### Read data"
   ]
  },
  {
   "cell_type": "code",
   "execution_count": 77,
   "metadata": {},
   "outputs": [],
   "source": [
    "def read_olist_data(file1, file2, file3, verbose):\n",
    "    \n",
    "    # read the data\n",
    "    orders = pd.read_csv(file1)\n",
    "    cust = pd.read_csv(file2)\n",
    "    payments = pd.read_csv(file3)\n",
    "\n",
    "    # drop unnecessary columns\n",
    "    #drop_vars = ['order_approved_at', 'order_delivered_carrier_date', \n",
    "    #           'order_delivered_customer_date', 'order_estimated_delivery_date']\n",
    "\n",
    "    \n",
    "    # date-time conversion\n",
    "    orders['order_purchase_timestamp'] = pd.to_datetime(orders['order_purchase_timestamp'])\n",
    "    orders['order_delivered_customer_timestamp'] = pd.to_datetime(orders['order_delivered_customer_date'])\n",
    "    orders['order_estimated_delivery_timestamp'] = pd.to_datetime(orders['order_estimated_delivery_date'])\n",
    "\n",
    "    # let's convert the order purchase timestamps into dates\n",
    "    orders['order_purchase_date'] = orders['order_purchase_timestamp'].dt.date\n",
    "    orders['order_delivered_customer_formdate'] = orders['order_delivered_customer_timestamp'].dt.date\n",
    "    orders['order_estimated_delivery_formdate'] = orders['order_estimated_delivery_timestamp'].dt.date\n",
    "\n",
    "     # extract day of week from the order date\n",
    "    orders['order_dow'] = orders['order_purchase_timestamp'].dt.weekday_name\n",
    "    \n",
    "    # extract month from the order date\n",
    "    orders['order_month'] = orders['order_purchase_timestamp'].dt.month\n",
    "\n",
    "    \n",
    "    # merge orders and cust dataframes\n",
    "    orders_cust = pd.merge(orders, cust, on='customer_id', how='inner')\n",
    "    orders_out = pd.merge(orders_cust, payments, on='order_id', how='inner')\n",
    "    \n",
    "    # apply filters to (a) discard (incomplete) data after 2018-8-22; see 06_pandas_wrangle.ipynb for the rationale\n",
    "    #  and (b) keep 'delivered' orders only\n",
    "    #  we do this here by using a boolean (True/False) mask\n",
    "    mask = (orders_out['order_purchase_date'] <= date(2018, 8, 22)) & (orders_out['order_status'] == 'delivered')\n",
    "\n",
    "    orders_out = orders_out[mask]\n",
    "    \n",
    "    # discard 'order_status' as we don't need it any more\n",
    "    orders_out = orders_out.drop('order_status', axis=1)\n",
    "    \n",
    "    # let's drop hose columns that we need (for this exercise)\n",
    "    keep_cols = ['customer_unique_id', 'customer_id','order_id','order_purchase_timestamp', 'order_delivered_customer_timestamp',\n",
    "                 'order_estimated_delivery_timestamp', 'order_purchase_date', 'order_delivered_customer_formdate', 'order_estimated_delivery_formdate',\n",
    "                 'order_dow', 'order_month', 'payment_installments', 'payment_type', 'payment_value']\n",
    "\n",
    "    orders_out = orders_out[keep_cols].sort_values(['customer_unique_id', 'order_purchase_timestamp'])\n",
    "\n",
    "    #if verbose:\n",
    "       # print (f'{len(orders_out):,} records in the output  file.')\n",
    "    \n",
    "    return orders_out"
   ]
  },
  {
   "cell_type": "code",
   "execution_count": 121,
   "metadata": {},
   "outputs": [],
   "source": [
    "orders = read_olist_data(orders_file, cust_file, payments_file, 1)"
   ]
  },
  {
   "cell_type": "code",
   "execution_count": 122,
   "metadata": {},
   "outputs": [
    {
     "data": {
      "text/html": [
       "<div>\n",
       "<style scoped>\n",
       "    .dataframe tbody tr th:only-of-type {\n",
       "        vertical-align: middle;\n",
       "    }\n",
       "\n",
       "    .dataframe tbody tr th {\n",
       "        vertical-align: top;\n",
       "    }\n",
       "\n",
       "    .dataframe thead th {\n",
       "        text-align: right;\n",
       "    }\n",
       "</style>\n",
       "<table border=\"1\" class=\"dataframe\">\n",
       "  <thead>\n",
       "    <tr style=\"text-align: right;\">\n",
       "      <th></th>\n",
       "      <th>order_id</th>\n",
       "      <th>payment_sequential</th>\n",
       "      <th>payment_type</th>\n",
       "      <th>payment_installments</th>\n",
       "      <th>payment_value</th>\n",
       "    </tr>\n",
       "  </thead>\n",
       "  <tbody>\n",
       "    <tr>\n",
       "      <th>27995</th>\n",
       "      <td>31bc09fdbd701a7a4f9b55b5955b8687</td>\n",
       "      <td>3</td>\n",
       "      <td>voucher</td>\n",
       "      <td>1</td>\n",
       "      <td>37.88</td>\n",
       "    </tr>\n",
       "    <tr>\n",
       "      <th>39416</th>\n",
       "      <td>31bc09fdbd701a7a4f9b55b5955b8687</td>\n",
       "      <td>7</td>\n",
       "      <td>voucher</td>\n",
       "      <td>1</td>\n",
       "      <td>3.48</td>\n",
       "    </tr>\n",
       "    <tr>\n",
       "      <th>43160</th>\n",
       "      <td>31bc09fdbd701a7a4f9b55b5955b8687</td>\n",
       "      <td>4</td>\n",
       "      <td>voucher</td>\n",
       "      <td>1</td>\n",
       "      <td>40.33</td>\n",
       "    </tr>\n",
       "    <tr>\n",
       "      <th>45492</th>\n",
       "      <td>31bc09fdbd701a7a4f9b55b5955b8687</td>\n",
       "      <td>1</td>\n",
       "      <td>voucher</td>\n",
       "      <td>1</td>\n",
       "      <td>26.86</td>\n",
       "    </tr>\n",
       "    <tr>\n",
       "      <th>74317</th>\n",
       "      <td>31bc09fdbd701a7a4f9b55b5955b8687</td>\n",
       "      <td>5</td>\n",
       "      <td>voucher</td>\n",
       "      <td>1</td>\n",
       "      <td>22.28</td>\n",
       "    </tr>\n",
       "    <tr>\n",
       "      <th>82459</th>\n",
       "      <td>31bc09fdbd701a7a4f9b55b5955b8687</td>\n",
       "      <td>2</td>\n",
       "      <td>voucher</td>\n",
       "      <td>1</td>\n",
       "      <td>55.71</td>\n",
       "    </tr>\n",
       "    <tr>\n",
       "      <th>103860</th>\n",
       "      <td>31bc09fdbd701a7a4f9b55b5955b8687</td>\n",
       "      <td>6</td>\n",
       "      <td>voucher</td>\n",
       "      <td>1</td>\n",
       "      <td>77.99</td>\n",
       "    </tr>\n",
       "  </tbody>\n",
       "</table>\n",
       "</div>"
      ],
      "text/plain": [
       "                                order_id  payment_sequential payment_type  \\\n",
       "27995   31bc09fdbd701a7a4f9b55b5955b8687                   3      voucher   \n",
       "39416   31bc09fdbd701a7a4f9b55b5955b8687                   7      voucher   \n",
       "43160   31bc09fdbd701a7a4f9b55b5955b8687                   4      voucher   \n",
       "45492   31bc09fdbd701a7a4f9b55b5955b8687                   1      voucher   \n",
       "74317   31bc09fdbd701a7a4f9b55b5955b8687                   5      voucher   \n",
       "82459   31bc09fdbd701a7a4f9b55b5955b8687                   2      voucher   \n",
       "103860  31bc09fdbd701a7a4f9b55b5955b8687                   6      voucher   \n",
       "\n",
       "        payment_installments  payment_value  \n",
       "27995                      1          37.88  \n",
       "39416                      1           3.48  \n",
       "43160                      1          40.33  \n",
       "45492                      1          26.86  \n",
       "74317                      1          22.28  \n",
       "82459                      1          55.71  \n",
       "103860                     1          77.99  "
      ]
     },
     "execution_count": 122,
     "metadata": {},
     "output_type": "execute_result"
    }
   ],
   "source": [
    "payments = pd.read_csv(payments_file)\n",
    "payments[payments['order_id']=='31bc09fdbd701a7a4f9b55b5955b8687']"
   ]
  },
  {
   "cell_type": "markdown",
   "metadata": {},
   "source": [
    "## Binary Classification model"
   ]
  },
  {
   "cell_type": "markdown",
   "metadata": {},
   "source": [
    "Let's build a model to predict whether a customer will make a purchase within the next month."
   ]
  },
  {
   "cell_type": "markdown",
   "metadata": {},
   "source": [
    "We will use *July 2018*, which is the most recent complete month, as the prediction window. In other words, we will use all available data prior to July 2018 to predict which customers will make a purchase in July 2018."
   ]
  },
  {
   "cell_type": "code",
   "execution_count": 123,
   "metadata": {},
   "outputs": [],
   "source": [
    "snapshot_date = date(2017, 6, 30)"
   ]
  },
  {
   "cell_type": "code",
   "execution_count": 124,
   "metadata": {},
   "outputs": [
    {
     "data": {
      "text/plain": [
       "(100247, 15077)"
      ]
     },
     "execution_count": 124,
     "metadata": {},
     "output_type": "execute_result"
    }
   ],
   "source": [
    "#filter out only data before snapshot date\n",
    "mask = orders['order_purchase_timestamp'].dt.date <= snapshot_date\n",
    "\n",
    "df_raw = orders[mask]\n",
    "\n",
    "len(orders), len(df_raw)"
   ]
  },
  {
   "cell_type": "code",
   "execution_count": 125,
   "metadata": {},
   "outputs": [
    {
     "data": {
      "text/html": [
       "<div>\n",
       "<style scoped>\n",
       "    .dataframe tbody tr th:only-of-type {\n",
       "        vertical-align: middle;\n",
       "    }\n",
       "\n",
       "    .dataframe tbody tr th {\n",
       "        vertical-align: top;\n",
       "    }\n",
       "\n",
       "    .dataframe thead th {\n",
       "        text-align: right;\n",
       "    }\n",
       "</style>\n",
       "<table border=\"1\" class=\"dataframe\">\n",
       "  <thead>\n",
       "    <tr style=\"text-align: right;\">\n",
       "      <th></th>\n",
       "      <th>customer_unique_id</th>\n",
       "      <th>customer_id</th>\n",
       "      <th>order_id</th>\n",
       "      <th>order_purchase_timestamp</th>\n",
       "      <th>order_delivered_customer_timestamp</th>\n",
       "      <th>order_estimated_delivery_timestamp</th>\n",
       "      <th>order_purchase_date</th>\n",
       "      <th>order_delivered_customer_formdate</th>\n",
       "      <th>order_estimated_delivery_formdate</th>\n",
       "      <th>order_dow</th>\n",
       "      <th>order_month</th>\n",
       "      <th>payment_installments</th>\n",
       "      <th>payment_type</th>\n",
       "      <th>payment_value</th>\n",
       "    </tr>\n",
       "  </thead>\n",
       "  <tbody>\n",
       "    <tr>\n",
       "      <th>27681</th>\n",
       "      <td>0000f46a3911fa3c0805444483337064</td>\n",
       "      <td>9b3932a6253894a02c1df9d19004239f</td>\n",
       "      <td>b33ec3b699337181488304f362a6b734</td>\n",
       "      <td>2017-03-10 21:05:03</td>\n",
       "      <td>2017-04-05 14:38:47</td>\n",
       "      <td>2017-04-07</td>\n",
       "      <td>2017-03-10</td>\n",
       "      <td>2017-04-05</td>\n",
       "      <td>2017-04-07</td>\n",
       "      <td>Friday</td>\n",
       "      <td>3</td>\n",
       "      <td>8</td>\n",
       "      <td>credit_card</td>\n",
       "      <td>86.22</td>\n",
       "    </tr>\n",
       "    <tr>\n",
       "      <th>74356</th>\n",
       "      <td>0005e1862207bf6ccc02e4228effd9a0</td>\n",
       "      <td>3b37fb626fdf46cd99d37ec62afa88ff</td>\n",
       "      <td>ae76bef74b97bcb0b3e355e60d9a6f9c</td>\n",
       "      <td>2017-03-04 23:32:12</td>\n",
       "      <td>2017-03-09 08:33:08</td>\n",
       "      <td>2017-04-06</td>\n",
       "      <td>2017-03-04</td>\n",
       "      <td>2017-03-09</td>\n",
       "      <td>2017-04-06</td>\n",
       "      <td>Saturday</td>\n",
       "      <td>3</td>\n",
       "      <td>3</td>\n",
       "      <td>credit_card</td>\n",
       "      <td>150.12</td>\n",
       "    </tr>\n",
       "    <tr>\n",
       "      <th>44831</th>\n",
       "      <td>00115fc7123b5310cf6d3a3aa932699e</td>\n",
       "      <td>064064dd94c43013786fc1e1a14d6374</td>\n",
       "      <td>91d1bf2b7745903cb0d17162d1bbd750</td>\n",
       "      <td>2017-01-21 21:58:35</td>\n",
       "      <td>2017-02-01 21:57:36</td>\n",
       "      <td>2017-03-06</td>\n",
       "      <td>2017-01-21</td>\n",
       "      <td>2017-02-01</td>\n",
       "      <td>2017-03-06</td>\n",
       "      <td>Saturday</td>\n",
       "      <td>1</td>\n",
       "      <td>1</td>\n",
       "      <td>credit_card</td>\n",
       "      <td>76.11</td>\n",
       "    </tr>\n",
       "    <tr>\n",
       "      <th>73161</th>\n",
       "      <td>0011805441c0d1b68b48002f1d005526</td>\n",
       "      <td>728e136fca2819b62d610743ae2904b8</td>\n",
       "      <td>fb5d8b462dc9570527eff204b8a1a57b</td>\n",
       "      <td>2017-04-24 13:36:48</td>\n",
       "      <td>2017-05-12 14:04:42</td>\n",
       "      <td>2017-05-25</td>\n",
       "      <td>2017-04-24</td>\n",
       "      <td>2017-05-12</td>\n",
       "      <td>2017-05-25</td>\n",
       "      <td>Monday</td>\n",
       "      <td>4</td>\n",
       "      <td>10</td>\n",
       "      <td>credit_card</td>\n",
       "      <td>297.14</td>\n",
       "    </tr>\n",
       "    <tr>\n",
       "      <th>36639</th>\n",
       "      <td>0011857aff0e5871ce5eb429f21cdaf5</td>\n",
       "      <td>b821d548247d9c319bd595260efe677e</td>\n",
       "      <td>58d34816de3da57e9e07d7b34aced1b8</td>\n",
       "      <td>2017-06-28 11:08:38</td>\n",
       "      <td>2017-07-06 17:11:46</td>\n",
       "      <td>2017-07-26</td>\n",
       "      <td>2017-06-28</td>\n",
       "      <td>2017-07-06</td>\n",
       "      <td>2017-07-26</td>\n",
       "      <td>Wednesday</td>\n",
       "      <td>6</td>\n",
       "      <td>3</td>\n",
       "      <td>credit_card</td>\n",
       "      <td>192.83</td>\n",
       "    </tr>\n",
       "  </tbody>\n",
       "</table>\n",
       "</div>"
      ],
      "text/plain": [
       "                     customer_unique_id                       customer_id  \\\n",
       "27681  0000f46a3911fa3c0805444483337064  9b3932a6253894a02c1df9d19004239f   \n",
       "74356  0005e1862207bf6ccc02e4228effd9a0  3b37fb626fdf46cd99d37ec62afa88ff   \n",
       "44831  00115fc7123b5310cf6d3a3aa932699e  064064dd94c43013786fc1e1a14d6374   \n",
       "73161  0011805441c0d1b68b48002f1d005526  728e136fca2819b62d610743ae2904b8   \n",
       "36639  0011857aff0e5871ce5eb429f21cdaf5  b821d548247d9c319bd595260efe677e   \n",
       "\n",
       "                               order_id order_purchase_timestamp  \\\n",
       "27681  b33ec3b699337181488304f362a6b734      2017-03-10 21:05:03   \n",
       "74356  ae76bef74b97bcb0b3e355e60d9a6f9c      2017-03-04 23:32:12   \n",
       "44831  91d1bf2b7745903cb0d17162d1bbd750      2017-01-21 21:58:35   \n",
       "73161  fb5d8b462dc9570527eff204b8a1a57b      2017-04-24 13:36:48   \n",
       "36639  58d34816de3da57e9e07d7b34aced1b8      2017-06-28 11:08:38   \n",
       "\n",
       "      order_delivered_customer_timestamp order_estimated_delivery_timestamp  \\\n",
       "27681                2017-04-05 14:38:47                         2017-04-07   \n",
       "74356                2017-03-09 08:33:08                         2017-04-06   \n",
       "44831                2017-02-01 21:57:36                         2017-03-06   \n",
       "73161                2017-05-12 14:04:42                         2017-05-25   \n",
       "36639                2017-07-06 17:11:46                         2017-07-26   \n",
       "\n",
       "      order_purchase_date order_delivered_customer_formdate  \\\n",
       "27681          2017-03-10                        2017-04-05   \n",
       "74356          2017-03-04                        2017-03-09   \n",
       "44831          2017-01-21                        2017-02-01   \n",
       "73161          2017-04-24                        2017-05-12   \n",
       "36639          2017-06-28                        2017-07-06   \n",
       "\n",
       "      order_estimated_delivery_formdate  order_dow  order_month  \\\n",
       "27681                        2017-04-07     Friday            3   \n",
       "74356                        2017-04-06   Saturday            3   \n",
       "44831                        2017-03-06   Saturday            1   \n",
       "73161                        2017-05-25     Monday            4   \n",
       "36639                        2017-07-26  Wednesday            6   \n",
       "\n",
       "       payment_installments payment_type  payment_value  \n",
       "27681                     8  credit_card          86.22  \n",
       "74356                     3  credit_card         150.12  \n",
       "44831                     1  credit_card          76.11  \n",
       "73161                    10  credit_card         297.14  \n",
       "36639                     3  credit_card         192.83  "
      ]
     },
     "execution_count": 125,
     "metadata": {},
     "output_type": "execute_result"
    }
   ],
   "source": [
    "df_raw.head()"
   ]
  },
  {
   "cell_type": "code",
   "execution_count": 126,
   "metadata": {},
   "outputs": [],
   "source": [
    "# get dummies\n",
    "\n",
    "df_test = pd.get_dummies(df_raw, columns=['payment_type'])\n",
    "\n"
   ]
  },
  {
   "cell_type": "code",
   "execution_count": 127,
   "metadata": {},
   "outputs": [],
   "source": [
    "# grab all binary columns that we just created\n",
    "dummies = [x for x in df_test.columns if 'payment_type_' in x]\n",
    "\n",
    "# aggreagte data to the customer-level, so that we have one record per customer\n",
    "payment_type = df_test.groupby('customer_unique_id')[dummies].sum().reset_index()\n"
   ]
  },
  {
   "cell_type": "code",
   "execution_count": 128,
   "metadata": {
    "scrolled": true
   },
   "outputs": [
    {
     "data": {
      "text/html": [
       "<div>\n",
       "<style scoped>\n",
       "    .dataframe tbody tr th:only-of-type {\n",
       "        vertical-align: middle;\n",
       "    }\n",
       "\n",
       "    .dataframe tbody tr th {\n",
       "        vertical-align: top;\n",
       "    }\n",
       "\n",
       "    .dataframe thead th {\n",
       "        text-align: right;\n",
       "    }\n",
       "</style>\n",
       "<table border=\"1\" class=\"dataframe\">\n",
       "  <thead>\n",
       "    <tr style=\"text-align: right;\">\n",
       "      <th></th>\n",
       "      <th>customer_unique_id</th>\n",
       "      <th>payment_type_boleto</th>\n",
       "      <th>payment_type_credit_card</th>\n",
       "      <th>payment_type_debit_card</th>\n",
       "      <th>payment_type_voucher</th>\n",
       "    </tr>\n",
       "  </thead>\n",
       "  <tbody>\n",
       "    <tr>\n",
       "      <th>0</th>\n",
       "      <td>0000f46a3911fa3c0805444483337064</td>\n",
       "      <td>0</td>\n",
       "      <td>1</td>\n",
       "      <td>0</td>\n",
       "      <td>0</td>\n",
       "    </tr>\n",
       "    <tr>\n",
       "      <th>1</th>\n",
       "      <td>0005e1862207bf6ccc02e4228effd9a0</td>\n",
       "      <td>0</td>\n",
       "      <td>1</td>\n",
       "      <td>0</td>\n",
       "      <td>0</td>\n",
       "    </tr>\n",
       "    <tr>\n",
       "      <th>2</th>\n",
       "      <td>00115fc7123b5310cf6d3a3aa932699e</td>\n",
       "      <td>0</td>\n",
       "      <td>1</td>\n",
       "      <td>0</td>\n",
       "      <td>0</td>\n",
       "    </tr>\n",
       "    <tr>\n",
       "      <th>3</th>\n",
       "      <td>0011805441c0d1b68b48002f1d005526</td>\n",
       "      <td>0</td>\n",
       "      <td>1</td>\n",
       "      <td>0</td>\n",
       "      <td>0</td>\n",
       "    </tr>\n",
       "    <tr>\n",
       "      <th>4</th>\n",
       "      <td>0011857aff0e5871ce5eb429f21cdaf5</td>\n",
       "      <td>0</td>\n",
       "      <td>1</td>\n",
       "      <td>0</td>\n",
       "      <td>0</td>\n",
       "    </tr>\n",
       "    <tr>\n",
       "      <th>5</th>\n",
       "      <td>00191a9719ef48ebb5860b130347bf33</td>\n",
       "      <td>0</td>\n",
       "      <td>1</td>\n",
       "      <td>0</td>\n",
       "      <td>0</td>\n",
       "    </tr>\n",
       "    <tr>\n",
       "      <th>6</th>\n",
       "      <td>001a2bf0e46c684031af91fb2bce149d</td>\n",
       "      <td>0</td>\n",
       "      <td>1</td>\n",
       "      <td>0</td>\n",
       "      <td>0</td>\n",
       "    </tr>\n",
       "    <tr>\n",
       "      <th>7</th>\n",
       "      <td>001f3c4211216384d5fe59b041ce1461</td>\n",
       "      <td>0</td>\n",
       "      <td>1</td>\n",
       "      <td>0</td>\n",
       "      <td>0</td>\n",
       "    </tr>\n",
       "    <tr>\n",
       "      <th>8</th>\n",
       "      <td>002043098f10ba39a4600b6c52fbfe3c</td>\n",
       "      <td>0</td>\n",
       "      <td>1</td>\n",
       "      <td>0</td>\n",
       "      <td>0</td>\n",
       "    </tr>\n",
       "    <tr>\n",
       "      <th>9</th>\n",
       "      <td>002b4cd83fabaffaa475f78ea5ef3e08</td>\n",
       "      <td>0</td>\n",
       "      <td>1</td>\n",
       "      <td>0</td>\n",
       "      <td>0</td>\n",
       "    </tr>\n",
       "    <tr>\n",
       "      <th>10</th>\n",
       "      <td>002d71b244beb91ca7030b15ab526446</td>\n",
       "      <td>1</td>\n",
       "      <td>0</td>\n",
       "      <td>0</td>\n",
       "      <td>0</td>\n",
       "    </tr>\n",
       "    <tr>\n",
       "      <th>11</th>\n",
       "      <td>00324c9f4d710e7bac5c5ba679714430</td>\n",
       "      <td>0</td>\n",
       "      <td>1</td>\n",
       "      <td>0</td>\n",
       "      <td>1</td>\n",
       "    </tr>\n",
       "    <tr>\n",
       "      <th>12</th>\n",
       "      <td>0032c76b20340da25249092a268ce66c</td>\n",
       "      <td>0</td>\n",
       "      <td>1</td>\n",
       "      <td>0</td>\n",
       "      <td>0</td>\n",
       "    </tr>\n",
       "    <tr>\n",
       "      <th>13</th>\n",
       "      <td>0036a074f98b80c4f1fc33dbbcf9c552</td>\n",
       "      <td>1</td>\n",
       "      <td>0</td>\n",
       "      <td>0</td>\n",
       "      <td>0</td>\n",
       "    </tr>\n",
       "    <tr>\n",
       "      <th>14</th>\n",
       "      <td>0037d2bbb9ebc39d9114aea27ee16d72</td>\n",
       "      <td>1</td>\n",
       "      <td>0</td>\n",
       "      <td>0</td>\n",
       "      <td>0</td>\n",
       "    </tr>\n",
       "    <tr>\n",
       "      <th>15</th>\n",
       "      <td>003e28cb6fab8a0901bff9229612375f</td>\n",
       "      <td>0</td>\n",
       "      <td>1</td>\n",
       "      <td>0</td>\n",
       "      <td>0</td>\n",
       "    </tr>\n",
       "    <tr>\n",
       "      <th>16</th>\n",
       "      <td>0043d65f8039b4a4d43bc7b0f450ac2c</td>\n",
       "      <td>0</td>\n",
       "      <td>1</td>\n",
       "      <td>0</td>\n",
       "      <td>0</td>\n",
       "    </tr>\n",
       "    <tr>\n",
       "      <th>17</th>\n",
       "      <td>00444f48f6c9b55657e49435ce3a97ca</td>\n",
       "      <td>0</td>\n",
       "      <td>1</td>\n",
       "      <td>0</td>\n",
       "      <td>0</td>\n",
       "    </tr>\n",
       "    <tr>\n",
       "      <th>18</th>\n",
       "      <td>00446a03d7a34d191507c9e42870d0a5</td>\n",
       "      <td>0</td>\n",
       "      <td>1</td>\n",
       "      <td>0</td>\n",
       "      <td>0</td>\n",
       "    </tr>\n",
       "    <tr>\n",
       "      <th>19</th>\n",
       "      <td>0049dadc30da6a277c1e9d371df5a66f</td>\n",
       "      <td>0</td>\n",
       "      <td>1</td>\n",
       "      <td>0</td>\n",
       "      <td>0</td>\n",
       "    </tr>\n",
       "    <tr>\n",
       "      <th>20</th>\n",
       "      <td>0049db44bfd6cee26ac9c649329ff6ea</td>\n",
       "      <td>0</td>\n",
       "      <td>0</td>\n",
       "      <td>1</td>\n",
       "      <td>0</td>\n",
       "    </tr>\n",
       "    <tr>\n",
       "      <th>21</th>\n",
       "      <td>00522457bba00bba576a34fd9b4808fd</td>\n",
       "      <td>0</td>\n",
       "      <td>1</td>\n",
       "      <td>0</td>\n",
       "      <td>0</td>\n",
       "    </tr>\n",
       "    <tr>\n",
       "      <th>22</th>\n",
       "      <td>0055b522bc89cbfbf376d8b59a628470</td>\n",
       "      <td>1</td>\n",
       "      <td>0</td>\n",
       "      <td>0</td>\n",
       "      <td>0</td>\n",
       "    </tr>\n",
       "    <tr>\n",
       "      <th>23</th>\n",
       "      <td>0059acd36094bf670ec8b21be6c0044c</td>\n",
       "      <td>1</td>\n",
       "      <td>0</td>\n",
       "      <td>0</td>\n",
       "      <td>0</td>\n",
       "    </tr>\n",
       "    <tr>\n",
       "      <th>24</th>\n",
       "      <td>007953b3182d5ccc9189a694f5c68163</td>\n",
       "      <td>0</td>\n",
       "      <td>1</td>\n",
       "      <td>0</td>\n",
       "      <td>0</td>\n",
       "    </tr>\n",
       "    <tr>\n",
       "      <th>25</th>\n",
       "      <td>00842c7d0cedb9e1edad8e9b7d148f09</td>\n",
       "      <td>1</td>\n",
       "      <td>0</td>\n",
       "      <td>0</td>\n",
       "      <td>0</td>\n",
       "    </tr>\n",
       "    <tr>\n",
       "      <th>26</th>\n",
       "      <td>0087eede471173af78d789df249c3a45</td>\n",
       "      <td>1</td>\n",
       "      <td>0</td>\n",
       "      <td>0</td>\n",
       "      <td>0</td>\n",
       "    </tr>\n",
       "    <tr>\n",
       "      <th>27</th>\n",
       "      <td>008f3d5f45a11059239a5c452cd00006</td>\n",
       "      <td>1</td>\n",
       "      <td>0</td>\n",
       "      <td>0</td>\n",
       "      <td>0</td>\n",
       "    </tr>\n",
       "    <tr>\n",
       "      <th>28</th>\n",
       "      <td>008fb2ecc75561d202dd4db2e0ceec25</td>\n",
       "      <td>0</td>\n",
       "      <td>1</td>\n",
       "      <td>0</td>\n",
       "      <td>0</td>\n",
       "    </tr>\n",
       "    <tr>\n",
       "      <th>29</th>\n",
       "      <td>009301957bc7714394865c44650d8060</td>\n",
       "      <td>0</td>\n",
       "      <td>1</td>\n",
       "      <td>0</td>\n",
       "      <td>0</td>\n",
       "    </tr>\n",
       "    <tr>\n",
       "      <th>...</th>\n",
       "      <td>...</td>\n",
       "      <td>...</td>\n",
       "      <td>...</td>\n",
       "      <td>...</td>\n",
       "      <td>...</td>\n",
       "    </tr>\n",
       "    <tr>\n",
       "      <th>13825</th>\n",
       "      <td>ff8d27e48d6492ebb97e3052142c47bf</td>\n",
       "      <td>1</td>\n",
       "      <td>0</td>\n",
       "      <td>0</td>\n",
       "      <td>0</td>\n",
       "    </tr>\n",
       "    <tr>\n",
       "      <th>13826</th>\n",
       "      <td>ff8d5a4820b9e8b59cdbc2f6102e64e4</td>\n",
       "      <td>1</td>\n",
       "      <td>0</td>\n",
       "      <td>0</td>\n",
       "      <td>0</td>\n",
       "    </tr>\n",
       "    <tr>\n",
       "      <th>13827</th>\n",
       "      <td>ff922bdd6bafcdf99cb90d7f39cea5b3</td>\n",
       "      <td>0</td>\n",
       "      <td>1</td>\n",
       "      <td>0</td>\n",
       "      <td>0</td>\n",
       "    </tr>\n",
       "    <tr>\n",
       "      <th>13828</th>\n",
       "      <td>ff959aedd362b48bb97c0abeb0b36b62</td>\n",
       "      <td>0</td>\n",
       "      <td>1</td>\n",
       "      <td>0</td>\n",
       "      <td>0</td>\n",
       "    </tr>\n",
       "    <tr>\n",
       "      <th>13829</th>\n",
       "      <td>ff9b12e78f7c6c8ad5327b63374c370c</td>\n",
       "      <td>1</td>\n",
       "      <td>0</td>\n",
       "      <td>0</td>\n",
       "      <td>0</td>\n",
       "    </tr>\n",
       "    <tr>\n",
       "      <th>13830</th>\n",
       "      <td>ff9bc66daa6702543b16f3c4897e300b</td>\n",
       "      <td>0</td>\n",
       "      <td>1</td>\n",
       "      <td>0</td>\n",
       "      <td>1</td>\n",
       "    </tr>\n",
       "    <tr>\n",
       "      <th>13831</th>\n",
       "      <td>ff9e11d25bd3a13105fbf416eee813c5</td>\n",
       "      <td>0</td>\n",
       "      <td>1</td>\n",
       "      <td>0</td>\n",
       "      <td>0</td>\n",
       "    </tr>\n",
       "    <tr>\n",
       "      <th>13832</th>\n",
       "      <td>ff9ff869636c26565ded16038be5fa7d</td>\n",
       "      <td>0</td>\n",
       "      <td>1</td>\n",
       "      <td>0</td>\n",
       "      <td>0</td>\n",
       "    </tr>\n",
       "    <tr>\n",
       "      <th>13833</th>\n",
       "      <td>ffa17ff63f95ea3c838670e61d2666e0</td>\n",
       "      <td>1</td>\n",
       "      <td>0</td>\n",
       "      <td>0</td>\n",
       "      <td>0</td>\n",
       "    </tr>\n",
       "    <tr>\n",
       "      <th>13834</th>\n",
       "      <td>ffa46fd1f769dfbdd6c039550b420949</td>\n",
       "      <td>0</td>\n",
       "      <td>1</td>\n",
       "      <td>0</td>\n",
       "      <td>0</td>\n",
       "    </tr>\n",
       "    <tr>\n",
       "      <th>13835</th>\n",
       "      <td>ffaa5b5559566bb4dbf71d554310e760</td>\n",
       "      <td>0</td>\n",
       "      <td>1</td>\n",
       "      <td>0</td>\n",
       "      <td>0</td>\n",
       "    </tr>\n",
       "    <tr>\n",
       "      <th>13836</th>\n",
       "      <td>ffafb9f09293653c2486abe52e5e05a4</td>\n",
       "      <td>0</td>\n",
       "      <td>1</td>\n",
       "      <td>0</td>\n",
       "      <td>0</td>\n",
       "    </tr>\n",
       "    <tr>\n",
       "      <th>13837</th>\n",
       "      <td>ffb973f2bb1c0cb807a99341a9b20dcd</td>\n",
       "      <td>0</td>\n",
       "      <td>1</td>\n",
       "      <td>0</td>\n",
       "      <td>0</td>\n",
       "    </tr>\n",
       "    <tr>\n",
       "      <th>13838</th>\n",
       "      <td>ffba9f9dff87b05e310ecc46c8591044</td>\n",
       "      <td>0</td>\n",
       "      <td>1</td>\n",
       "      <td>0</td>\n",
       "      <td>0</td>\n",
       "    </tr>\n",
       "    <tr>\n",
       "      <th>13839</th>\n",
       "      <td>ffbb866d7c0d272f9fe12de1b9ee9173</td>\n",
       "      <td>0</td>\n",
       "      <td>0</td>\n",
       "      <td>0</td>\n",
       "      <td>1</td>\n",
       "    </tr>\n",
       "    <tr>\n",
       "      <th>13840</th>\n",
       "      <td>ffbb8dfaa0e54649d8690b85a3ef890d</td>\n",
       "      <td>1</td>\n",
       "      <td>0</td>\n",
       "      <td>0</td>\n",
       "      <td>0</td>\n",
       "    </tr>\n",
       "    <tr>\n",
       "      <th>13841</th>\n",
       "      <td>ffbf790cac0b6cf2e411d9f158c0fbe2</td>\n",
       "      <td>0</td>\n",
       "      <td>1</td>\n",
       "      <td>0</td>\n",
       "      <td>0</td>\n",
       "    </tr>\n",
       "    <tr>\n",
       "      <th>13842</th>\n",
       "      <td>ffd44de1326179fff550dae07c6884c2</td>\n",
       "      <td>0</td>\n",
       "      <td>1</td>\n",
       "      <td>0</td>\n",
       "      <td>0</td>\n",
       "    </tr>\n",
       "    <tr>\n",
       "      <th>13843</th>\n",
       "      <td>ffe254cc039740e17dd15a5305035928</td>\n",
       "      <td>0</td>\n",
       "      <td>2</td>\n",
       "      <td>0</td>\n",
       "      <td>0</td>\n",
       "    </tr>\n",
       "    <tr>\n",
       "      <th>13844</th>\n",
       "      <td>ffe2dd1f3b0cbf0b5f35e818ec03c49b</td>\n",
       "      <td>0</td>\n",
       "      <td>1</td>\n",
       "      <td>0</td>\n",
       "      <td>0</td>\n",
       "    </tr>\n",
       "    <tr>\n",
       "      <th>13845</th>\n",
       "      <td>ffe3e199b9d0b7fb7d2d29a5b9498447</td>\n",
       "      <td>1</td>\n",
       "      <td>0</td>\n",
       "      <td>0</td>\n",
       "      <td>0</td>\n",
       "    </tr>\n",
       "    <tr>\n",
       "      <th>13846</th>\n",
       "      <td>ffe4c3aa14d4702fb11fe5b3c4dd755c</td>\n",
       "      <td>0</td>\n",
       "      <td>1</td>\n",
       "      <td>0</td>\n",
       "      <td>0</td>\n",
       "    </tr>\n",
       "    <tr>\n",
       "      <th>13847</th>\n",
       "      <td>ffe7752edcf14b5819058b1948e02f3a</td>\n",
       "      <td>0</td>\n",
       "      <td>1</td>\n",
       "      <td>0</td>\n",
       "      <td>0</td>\n",
       "    </tr>\n",
       "    <tr>\n",
       "      <th>13848</th>\n",
       "      <td>ffe9102bb78a76921ba0ff3c4659616a</td>\n",
       "      <td>0</td>\n",
       "      <td>0</td>\n",
       "      <td>1</td>\n",
       "      <td>0</td>\n",
       "    </tr>\n",
       "    <tr>\n",
       "      <th>13849</th>\n",
       "      <td>ffebb6424578e7bb153322da9d65634f</td>\n",
       "      <td>0</td>\n",
       "      <td>1</td>\n",
       "      <td>0</td>\n",
       "      <td>0</td>\n",
       "    </tr>\n",
       "    <tr>\n",
       "      <th>13850</th>\n",
       "      <td>ffedff0547d809c90c05c2691c51f9b7</td>\n",
       "      <td>0</td>\n",
       "      <td>1</td>\n",
       "      <td>0</td>\n",
       "      <td>0</td>\n",
       "    </tr>\n",
       "    <tr>\n",
       "      <th>13851</th>\n",
       "      <td>ffef0ffa736c7b3d9af741611089729b</td>\n",
       "      <td>0</td>\n",
       "      <td>1</td>\n",
       "      <td>0</td>\n",
       "      <td>0</td>\n",
       "    </tr>\n",
       "    <tr>\n",
       "      <th>13852</th>\n",
       "      <td>fffcf5a5ff07b0908bd4e2dbc735a684</td>\n",
       "      <td>0</td>\n",
       "      <td>1</td>\n",
       "      <td>0</td>\n",
       "      <td>0</td>\n",
       "    </tr>\n",
       "    <tr>\n",
       "      <th>13853</th>\n",
       "      <td>ffff371b4d645b6ecea244b27531430a</td>\n",
       "      <td>0</td>\n",
       "      <td>1</td>\n",
       "      <td>0</td>\n",
       "      <td>0</td>\n",
       "    </tr>\n",
       "    <tr>\n",
       "      <th>13854</th>\n",
       "      <td>ffffd2657e2aad2907e67c3e9daecbeb</td>\n",
       "      <td>0</td>\n",
       "      <td>1</td>\n",
       "      <td>0</td>\n",
       "      <td>0</td>\n",
       "    </tr>\n",
       "  </tbody>\n",
       "</table>\n",
       "<p>13855 rows × 5 columns</p>\n",
       "</div>"
      ],
      "text/plain": [
       "                     customer_unique_id  payment_type_boleto  \\\n",
       "0      0000f46a3911fa3c0805444483337064                    0   \n",
       "1      0005e1862207bf6ccc02e4228effd9a0                    0   \n",
       "2      00115fc7123b5310cf6d3a3aa932699e                    0   \n",
       "3      0011805441c0d1b68b48002f1d005526                    0   \n",
       "4      0011857aff0e5871ce5eb429f21cdaf5                    0   \n",
       "5      00191a9719ef48ebb5860b130347bf33                    0   \n",
       "6      001a2bf0e46c684031af91fb2bce149d                    0   \n",
       "7      001f3c4211216384d5fe59b041ce1461                    0   \n",
       "8      002043098f10ba39a4600b6c52fbfe3c                    0   \n",
       "9      002b4cd83fabaffaa475f78ea5ef3e08                    0   \n",
       "10     002d71b244beb91ca7030b15ab526446                    1   \n",
       "11     00324c9f4d710e7bac5c5ba679714430                    0   \n",
       "12     0032c76b20340da25249092a268ce66c                    0   \n",
       "13     0036a074f98b80c4f1fc33dbbcf9c552                    1   \n",
       "14     0037d2bbb9ebc39d9114aea27ee16d72                    1   \n",
       "15     003e28cb6fab8a0901bff9229612375f                    0   \n",
       "16     0043d65f8039b4a4d43bc7b0f450ac2c                    0   \n",
       "17     00444f48f6c9b55657e49435ce3a97ca                    0   \n",
       "18     00446a03d7a34d191507c9e42870d0a5                    0   \n",
       "19     0049dadc30da6a277c1e9d371df5a66f                    0   \n",
       "20     0049db44bfd6cee26ac9c649329ff6ea                    0   \n",
       "21     00522457bba00bba576a34fd9b4808fd                    0   \n",
       "22     0055b522bc89cbfbf376d8b59a628470                    1   \n",
       "23     0059acd36094bf670ec8b21be6c0044c                    1   \n",
       "24     007953b3182d5ccc9189a694f5c68163                    0   \n",
       "25     00842c7d0cedb9e1edad8e9b7d148f09                    1   \n",
       "26     0087eede471173af78d789df249c3a45                    1   \n",
       "27     008f3d5f45a11059239a5c452cd00006                    1   \n",
       "28     008fb2ecc75561d202dd4db2e0ceec25                    0   \n",
       "29     009301957bc7714394865c44650d8060                    0   \n",
       "...                                 ...                  ...   \n",
       "13825  ff8d27e48d6492ebb97e3052142c47bf                    1   \n",
       "13826  ff8d5a4820b9e8b59cdbc2f6102e64e4                    1   \n",
       "13827  ff922bdd6bafcdf99cb90d7f39cea5b3                    0   \n",
       "13828  ff959aedd362b48bb97c0abeb0b36b62                    0   \n",
       "13829  ff9b12e78f7c6c8ad5327b63374c370c                    1   \n",
       "13830  ff9bc66daa6702543b16f3c4897e300b                    0   \n",
       "13831  ff9e11d25bd3a13105fbf416eee813c5                    0   \n",
       "13832  ff9ff869636c26565ded16038be5fa7d                    0   \n",
       "13833  ffa17ff63f95ea3c838670e61d2666e0                    1   \n",
       "13834  ffa46fd1f769dfbdd6c039550b420949                    0   \n",
       "13835  ffaa5b5559566bb4dbf71d554310e760                    0   \n",
       "13836  ffafb9f09293653c2486abe52e5e05a4                    0   \n",
       "13837  ffb973f2bb1c0cb807a99341a9b20dcd                    0   \n",
       "13838  ffba9f9dff87b05e310ecc46c8591044                    0   \n",
       "13839  ffbb866d7c0d272f9fe12de1b9ee9173                    0   \n",
       "13840  ffbb8dfaa0e54649d8690b85a3ef890d                    1   \n",
       "13841  ffbf790cac0b6cf2e411d9f158c0fbe2                    0   \n",
       "13842  ffd44de1326179fff550dae07c6884c2                    0   \n",
       "13843  ffe254cc039740e17dd15a5305035928                    0   \n",
       "13844  ffe2dd1f3b0cbf0b5f35e818ec03c49b                    0   \n",
       "13845  ffe3e199b9d0b7fb7d2d29a5b9498447                    1   \n",
       "13846  ffe4c3aa14d4702fb11fe5b3c4dd755c                    0   \n",
       "13847  ffe7752edcf14b5819058b1948e02f3a                    0   \n",
       "13848  ffe9102bb78a76921ba0ff3c4659616a                    0   \n",
       "13849  ffebb6424578e7bb153322da9d65634f                    0   \n",
       "13850  ffedff0547d809c90c05c2691c51f9b7                    0   \n",
       "13851  ffef0ffa736c7b3d9af741611089729b                    0   \n",
       "13852  fffcf5a5ff07b0908bd4e2dbc735a684                    0   \n",
       "13853  ffff371b4d645b6ecea244b27531430a                    0   \n",
       "13854  ffffd2657e2aad2907e67c3e9daecbeb                    0   \n",
       "\n",
       "       payment_type_credit_card  payment_type_debit_card  payment_type_voucher  \n",
       "0                             1                        0                     0  \n",
       "1                             1                        0                     0  \n",
       "2                             1                        0                     0  \n",
       "3                             1                        0                     0  \n",
       "4                             1                        0                     0  \n",
       "5                             1                        0                     0  \n",
       "6                             1                        0                     0  \n",
       "7                             1                        0                     0  \n",
       "8                             1                        0                     0  \n",
       "9                             1                        0                     0  \n",
       "10                            0                        0                     0  \n",
       "11                            1                        0                     1  \n",
       "12                            1                        0                     0  \n",
       "13                            0                        0                     0  \n",
       "14                            0                        0                     0  \n",
       "15                            1                        0                     0  \n",
       "16                            1                        0                     0  \n",
       "17                            1                        0                     0  \n",
       "18                            1                        0                     0  \n",
       "19                            1                        0                     0  \n",
       "20                            0                        1                     0  \n",
       "21                            1                        0                     0  \n",
       "22                            0                        0                     0  \n",
       "23                            0                        0                     0  \n",
       "24                            1                        0                     0  \n",
       "25                            0                        0                     0  \n",
       "26                            0                        0                     0  \n",
       "27                            0                        0                     0  \n",
       "28                            1                        0                     0  \n",
       "29                            1                        0                     0  \n",
       "...                         ...                      ...                   ...  \n",
       "13825                         0                        0                     0  \n",
       "13826                         0                        0                     0  \n",
       "13827                         1                        0                     0  \n",
       "13828                         1                        0                     0  \n",
       "13829                         0                        0                     0  \n",
       "13830                         1                        0                     1  \n",
       "13831                         1                        0                     0  \n",
       "13832                         1                        0                     0  \n",
       "13833                         0                        0                     0  \n",
       "13834                         1                        0                     0  \n",
       "13835                         1                        0                     0  \n",
       "13836                         1                        0                     0  \n",
       "13837                         1                        0                     0  \n",
       "13838                         1                        0                     0  \n",
       "13839                         0                        0                     1  \n",
       "13840                         0                        0                     0  \n",
       "13841                         1                        0                     0  \n",
       "13842                         1                        0                     0  \n",
       "13843                         2                        0                     0  \n",
       "13844                         1                        0                     0  \n",
       "13845                         0                        0                     0  \n",
       "13846                         1                        0                     0  \n",
       "13847                         1                        0                     0  \n",
       "13848                         0                        1                     0  \n",
       "13849                         1                        0                     0  \n",
       "13850                         1                        0                     0  \n",
       "13851                         1                        0                     0  \n",
       "13852                         1                        0                     0  \n",
       "13853                         1                        0                     0  \n",
       "13854                         1                        0                     0  \n",
       "\n",
       "[13855 rows x 5 columns]"
      ]
     },
     "execution_count": 128,
     "metadata": {},
     "output_type": "execute_result"
    }
   ],
   "source": [
    "payment_type"
   ]
  },
  {
   "cell_type": "markdown",
   "metadata": {},
   "source": [
    "### Attribute #1: Order recency"
   ]
  },
  {
   "cell_type": "markdown",
   "metadata": {},
   "source": [
    "For creating model attributes (features) we will have to restrict our data to the timeframe prior to the prediction window."
   ]
  },
  {
   "cell_type": "code",
   "execution_count": 129,
   "metadata": {},
   "outputs": [
    {
     "data": {
      "text/plain": [
       "13855"
      ]
     },
     "execution_count": 129,
     "metadata": {},
     "output_type": "execute_result"
    }
   ],
   "source": [
    "\n",
    "\n",
    "# check the max date\n",
    "\n",
    "df_raw.order_purchase_timestamp.max()\n",
    "\n",
    "# grab the max purchase date for each customer\n",
    "\n",
    "cust_recency = df_raw.groupby('customer_unique_id')['order_purchase_timestamp'].max().reset_index()\n",
    "\n",
    "# count the number of days between the most recent order date and the snapshot date\n",
    "\n",
    "delta = snapshot_date - cust_recency['order_purchase_timestamp'].dt.date\n",
    "\n",
    "# grab the number of days (as an integer) from the calculated deltas \n",
    "\n",
    "cust_recency['order_recency'] = delta.dt.days\n",
    "\n",
    "# drop the date (we don't need it any more for this exercise)\n",
    "\n",
    "cust_recency = cust_recency.drop('order_purchase_timestamp', axis=1)\n",
    "\n",
    "\n",
    "# how many records (unique customers) do we have for this timeframe?\n",
    "\n",
    "len(cust_recency)\n"
   ]
  },
  {
   "cell_type": "markdown",
   "metadata": {},
   "source": [
    "This is the number of customers who are included in the modeling dasetset for this specific time-frame."
   ]
  },
  {
   "cell_type": "markdown",
   "metadata": {},
   "source": [
    "Additional eligibility criteria can be applied to exclude customers (from the modeling dataset) who have not shopped in more than, e.g., one/two years."
   ]
  },
  {
   "cell_type": "markdown",
   "metadata": {},
   "source": [
    "### Attribute 2: Days defore/after delivery"
   ]
  },
  {
   "cell_type": "code",
   "execution_count": 130,
   "metadata": {
    "scrolled": true
   },
   "outputs": [
    {
     "name": "stderr",
     "output_type": "stream",
     "text": [
      "/Users/liz/anaconda3/lib/python3.7/site-packages/ipykernel_launcher.py:3: SettingWithCopyWarning: \n",
      "A value is trying to be set on a copy of a slice from a DataFrame.\n",
      "Try using .loc[row_indexer,col_indexer] = value instead\n",
      "\n",
      "See the caveats in the documentation: http://pandas.pydata.org/pandas-docs/stable/indexing.html#indexing-view-versus-copy\n",
      "  This is separate from the ipykernel package so we can avoid doing imports until\n"
     ]
    }
   ],
   "source": [
    "# count the number of days between the most recent order date and the snapshot date\n",
    "\n",
    "df_raw['delays'] = (df_raw['order_estimated_delivery_timestamp'].dt.date - df_raw['order_delivered_customer_timestamp'].dt.date).dt.days\n",
    "\n"
   ]
  },
  {
   "cell_type": "code",
   "execution_count": 131,
   "metadata": {
    "scrolled": true
   },
   "outputs": [
    {
     "data": {
      "text/html": [
       "<div>\n",
       "<style scoped>\n",
       "    .dataframe tbody tr th:only-of-type {\n",
       "        vertical-align: middle;\n",
       "    }\n",
       "\n",
       "    .dataframe tbody tr th {\n",
       "        vertical-align: top;\n",
       "    }\n",
       "\n",
       "    .dataframe thead th {\n",
       "        text-align: right;\n",
       "    }\n",
       "</style>\n",
       "<table border=\"1\" class=\"dataframe\">\n",
       "  <thead>\n",
       "    <tr style=\"text-align: right;\">\n",
       "      <th></th>\n",
       "      <th>customer_unique_id</th>\n",
       "      <th>delays</th>\n",
       "    </tr>\n",
       "  </thead>\n",
       "  <tbody>\n",
       "    <tr>\n",
       "      <th>0</th>\n",
       "      <td>0000f46a3911fa3c0805444483337064</td>\n",
       "      <td>2.0</td>\n",
       "    </tr>\n",
       "    <tr>\n",
       "      <th>1</th>\n",
       "      <td>0005e1862207bf6ccc02e4228effd9a0</td>\n",
       "      <td>28.0</td>\n",
       "    </tr>\n",
       "    <tr>\n",
       "      <th>2</th>\n",
       "      <td>00115fc7123b5310cf6d3a3aa932699e</td>\n",
       "      <td>33.0</td>\n",
       "    </tr>\n",
       "    <tr>\n",
       "      <th>3</th>\n",
       "      <td>0011805441c0d1b68b48002f1d005526</td>\n",
       "      <td>13.0</td>\n",
       "    </tr>\n",
       "    <tr>\n",
       "      <th>4</th>\n",
       "      <td>0011857aff0e5871ce5eb429f21cdaf5</td>\n",
       "      <td>20.0</td>\n",
       "    </tr>\n",
       "  </tbody>\n",
       "</table>\n",
       "</div>"
      ],
      "text/plain": [
       "                 customer_unique_id  delays\n",
       "0  0000f46a3911fa3c0805444483337064     2.0\n",
       "1  0005e1862207bf6ccc02e4228effd9a0    28.0\n",
       "2  00115fc7123b5310cf6d3a3aa932699e    33.0\n",
       "3  0011805441c0d1b68b48002f1d005526    13.0\n",
       "4  0011857aff0e5871ce5eb429f21cdaf5    20.0"
      ]
     },
     "execution_count": 131,
     "metadata": {},
     "output_type": "execute_result"
    }
   ],
   "source": [
    "order_delay = df_raw.groupby(['customer_unique_id'])['delays'].sum().reset_index()\n",
    "order_delay.head()"
   ]
  },
  {
   "cell_type": "markdown",
   "metadata": {},
   "source": [
    "### Attribute 3: Orders per Customer"
   ]
  },
  {
   "cell_type": "code",
   "execution_count": 132,
   "metadata": {},
   "outputs": [],
   "source": [
    "# Count total records (i.e., orders) per customer\n",
    "\n",
    "cust_orders = df_raw.groupby('customer_unique_id').size().reset_index().rename(columns={0: 'total_orders'})\n"
   ]
  },
  {
   "cell_type": "markdown",
   "metadata": {},
   "source": [
    "### Attribute 4: Day of Week\n"
   ]
  },
  {
   "cell_type": "code",
   "execution_count": 133,
   "metadata": {
    "scrolled": true
   },
   "outputs": [],
   "source": [
    "# get dummies\n",
    "\n",
    "df_raw = pd.get_dummies(df_raw, columns=['order_dow'])\n",
    "\n",
    "# grab all binary columns that we just created\n",
    "dummies = [x for x in df_raw.columns if 'order_dow_' in x]\n",
    "\n",
    "# aggreagte data to the customer-level, so that we have one record per customer\n",
    "cust_dow = df_raw.groupby('customer_unique_id')[dummies].sum().reset_index()\n",
    "\n"
   ]
  },
  {
   "cell_type": "code",
   "execution_count": 134,
   "metadata": {},
   "outputs": [
    {
     "data": {
      "text/plain": [
       "13855"
      ]
     },
     "execution_count": 134,
     "metadata": {},
     "output_type": "execute_result"
    }
   ],
   "source": [
    "len(cust_dow)"
   ]
  },
  {
   "cell_type": "markdown",
   "metadata": {},
   "source": [
    "### New Attribute 5: Month"
   ]
  },
  {
   "cell_type": "code",
   "execution_count": 135,
   "metadata": {
    "scrolled": true
   },
   "outputs": [
    {
     "data": {
      "text/html": [
       "<div>\n",
       "<style scoped>\n",
       "    .dataframe tbody tr th:only-of-type {\n",
       "        vertical-align: middle;\n",
       "    }\n",
       "\n",
       "    .dataframe tbody tr th {\n",
       "        vertical-align: top;\n",
       "    }\n",
       "\n",
       "    .dataframe thead th {\n",
       "        text-align: right;\n",
       "    }\n",
       "</style>\n",
       "<table border=\"1\" class=\"dataframe\">\n",
       "  <thead>\n",
       "    <tr style=\"text-align: right;\">\n",
       "      <th></th>\n",
       "      <th>customer_unique_id</th>\n",
       "      <th>order_month_1</th>\n",
       "      <th>order_month_2</th>\n",
       "      <th>order_month_3</th>\n",
       "      <th>order_month_4</th>\n",
       "      <th>order_month_5</th>\n",
       "      <th>order_month_6</th>\n",
       "      <th>order_month_10</th>\n",
       "      <th>order_month_12</th>\n",
       "    </tr>\n",
       "  </thead>\n",
       "  <tbody>\n",
       "    <tr>\n",
       "      <th>0</th>\n",
       "      <td>0000f46a3911fa3c0805444483337064</td>\n",
       "      <td>0</td>\n",
       "      <td>0</td>\n",
       "      <td>1</td>\n",
       "      <td>0</td>\n",
       "      <td>0</td>\n",
       "      <td>0</td>\n",
       "      <td>0</td>\n",
       "      <td>0</td>\n",
       "    </tr>\n",
       "    <tr>\n",
       "      <th>1</th>\n",
       "      <td>0005e1862207bf6ccc02e4228effd9a0</td>\n",
       "      <td>0</td>\n",
       "      <td>0</td>\n",
       "      <td>1</td>\n",
       "      <td>0</td>\n",
       "      <td>0</td>\n",
       "      <td>0</td>\n",
       "      <td>0</td>\n",
       "      <td>0</td>\n",
       "    </tr>\n",
       "    <tr>\n",
       "      <th>2</th>\n",
       "      <td>00115fc7123b5310cf6d3a3aa932699e</td>\n",
       "      <td>1</td>\n",
       "      <td>0</td>\n",
       "      <td>0</td>\n",
       "      <td>0</td>\n",
       "      <td>0</td>\n",
       "      <td>0</td>\n",
       "      <td>0</td>\n",
       "      <td>0</td>\n",
       "    </tr>\n",
       "    <tr>\n",
       "      <th>3</th>\n",
       "      <td>0011805441c0d1b68b48002f1d005526</td>\n",
       "      <td>0</td>\n",
       "      <td>0</td>\n",
       "      <td>0</td>\n",
       "      <td>1</td>\n",
       "      <td>0</td>\n",
       "      <td>0</td>\n",
       "      <td>0</td>\n",
       "      <td>0</td>\n",
       "    </tr>\n",
       "    <tr>\n",
       "      <th>4</th>\n",
       "      <td>0011857aff0e5871ce5eb429f21cdaf5</td>\n",
       "      <td>0</td>\n",
       "      <td>0</td>\n",
       "      <td>0</td>\n",
       "      <td>0</td>\n",
       "      <td>0</td>\n",
       "      <td>1</td>\n",
       "      <td>0</td>\n",
       "      <td>0</td>\n",
       "    </tr>\n",
       "  </tbody>\n",
       "</table>\n",
       "</div>"
      ],
      "text/plain": [
       "                 customer_unique_id  order_month_1  order_month_2  \\\n",
       "0  0000f46a3911fa3c0805444483337064              0              0   \n",
       "1  0005e1862207bf6ccc02e4228effd9a0              0              0   \n",
       "2  00115fc7123b5310cf6d3a3aa932699e              1              0   \n",
       "3  0011805441c0d1b68b48002f1d005526              0              0   \n",
       "4  0011857aff0e5871ce5eb429f21cdaf5              0              0   \n",
       "\n",
       "   order_month_3  order_month_4  order_month_5  order_month_6  order_month_10  \\\n",
       "0              1              0              0              0               0   \n",
       "1              1              0              0              0               0   \n",
       "2              0              0              0              0               0   \n",
       "3              0              1              0              0               0   \n",
       "4              0              0              0              1               0   \n",
       "\n",
       "   order_month_12  \n",
       "0               0  \n",
       "1               0  \n",
       "2               0  \n",
       "3               0  \n",
       "4               0  "
      ]
     },
     "execution_count": 135,
     "metadata": {},
     "output_type": "execute_result"
    }
   ],
   "source": [
    "# get dummies\n",
    "\n",
    "df_raw = pd.get_dummies(df_raw, columns=['order_month'])\n",
    "\n",
    "# grab all binary columns that we just created\n",
    "dummonth = [x for x in df_raw.columns if 'order_month_' in x]\n",
    "\n",
    "# aggreagte data to the customer-level, so that we have one record per customer\n",
    "cust_month = df_raw.groupby('customer_unique_id')[dummonth].sum().reset_index()\n",
    "\n",
    "cust_month.head()"
   ]
  },
  {
   "cell_type": "markdown",
   "metadata": {},
   "source": [
    "### New Attribute 6: Purchase Dollar Volume"
   ]
  },
  {
   "cell_type": "code",
   "execution_count": 136,
   "metadata": {},
   "outputs": [
    {
     "data": {
      "text/html": [
       "<div>\n",
       "<style scoped>\n",
       "    .dataframe tbody tr th:only-of-type {\n",
       "        vertical-align: middle;\n",
       "    }\n",
       "\n",
       "    .dataframe tbody tr th {\n",
       "        vertical-align: top;\n",
       "    }\n",
       "\n",
       "    .dataframe thead th {\n",
       "        text-align: right;\n",
       "    }\n",
       "</style>\n",
       "<table border=\"1\" class=\"dataframe\">\n",
       "  <thead>\n",
       "    <tr style=\"text-align: right;\">\n",
       "      <th></th>\n",
       "      <th>customer_unique_id</th>\n",
       "      <th>order_total</th>\n",
       "    </tr>\n",
       "  </thead>\n",
       "  <tbody>\n",
       "    <tr>\n",
       "      <th>11796</th>\n",
       "      <td>da122df9eeddfedc1dc1f5349a1a690c</td>\n",
       "      <td>75716.30</td>\n",
       "    </tr>\n",
       "    <tr>\n",
       "      <th>11924</th>\n",
       "      <td>dc4802a71eae9be1dd28f5d788ceb526</td>\n",
       "      <td>55434.48</td>\n",
       "    </tr>\n",
       "    <tr>\n",
       "      <th>12923</th>\n",
       "      <td>eebb5dda148d3893cdaf5b5ca3040ccb</td>\n",
       "      <td>38114.72</td>\n",
       "    </tr>\n",
       "    <tr>\n",
       "      <th>5080</th>\n",
       "      <td>5d09b0d82126457e2a8ebfb9c9a1ffc4</td>\n",
       "      <td>37362.20</td>\n",
       "    </tr>\n",
       "    <tr>\n",
       "      <th>12882</th>\n",
       "      <td>edf81e1f3070b9dac83ec83dacdbb9bc</td>\n",
       "      <td>33558.08</td>\n",
       "    </tr>\n",
       "  </tbody>\n",
       "</table>\n",
       "</div>"
      ],
      "text/plain": [
       "                     customer_unique_id  order_total\n",
       "11796  da122df9eeddfedc1dc1f5349a1a690c     75716.30\n",
       "11924  dc4802a71eae9be1dd28f5d788ceb526     55434.48\n",
       "12923  eebb5dda148d3893cdaf5b5ca3040ccb     38114.72\n",
       "5080   5d09b0d82126457e2a8ebfb9c9a1ffc4     37362.20\n",
       "12882  edf81e1f3070b9dac83ec83dacdbb9bc     33558.08"
      ]
     },
     "execution_count": 136,
     "metadata": {},
     "output_type": "execute_result"
    }
   ],
   "source": [
    "df_raw['order_total']=df_raw['payment_installments']*df_raw['payment_value']\n",
    "\n",
    "dollar_volume = df_raw.groupby(['customer_unique_id'])['order_total'].sum().reset_index().sort_values('order_total',ascending=False)\n",
    "\n",
    "dollar_volume.head()"
   ]
  },
  {
   "cell_type": "markdown",
   "metadata": {},
   "source": [
    "### Combine all attributes into a single dataframe"
   ]
  },
  {
   "cell_type": "code",
   "execution_count": 137,
   "metadata": {},
   "outputs": [
    {
     "data": {
      "text/plain": [
       "((13855, 2), (13855, 2), (13855, 8), (13855, 2), (13855, 9))"
      ]
     },
     "execution_count": 137,
     "metadata": {},
     "output_type": "execute_result"
    }
   ],
   "source": [
    "# let's check the number of records in each dataframe first\n",
    "\n",
    "cust_recency.shape, cust_orders.shape, cust_dow.shape, order_delay.shape, cust_month.shape"
   ]
  },
  {
   "cell_type": "code",
   "execution_count": 138,
   "metadata": {},
   "outputs": [
    {
     "data": {
      "text/plain": [
       "13855"
      ]
     },
     "execution_count": 138,
     "metadata": {},
     "output_type": "execute_result"
    }
   ],
   "source": [
    "# combine (merge) `cust_recency` with `cust_orders` so that we have both attributes in one dataset\n",
    "\n",
    "df = pd.merge(cust_recency, cust_orders, on='customer_unique_id') \\\n",
    "     .merge(cust_dow, on='customer_unique_id') \\\n",
    "     .merge(order_delay, on='customer_unique_id') \\\n",
    "     .merge(cust_month, on='customer_unique_id') \\\n",
    "     .merge(dollar_volume, on='customer_unique_id')\n",
    "\n",
    "len(df)"
   ]
  },
  {
   "cell_type": "markdown",
   "metadata": {},
   "source": [
    "### Assign labels (aka the target variable or the dependent variable)"
   ]
  },
  {
   "cell_type": "markdown",
   "metadata": {},
   "source": [
    "For this exercise, we will assume that the objective of the model is to predict whether a customer will make *at least one purchase* in the future (i.e., within the target window of the model)."
   ]
  },
  {
   "cell_type": "markdown",
   "metadata": {},
   "source": [
    "**Step 1:** Isolate all orders that were placed within the prediction window."
   ]
  },
  {
   "cell_type": "code",
   "execution_count": 139,
   "metadata": {},
   "outputs": [
    {
     "data": {
      "text/html": [
       "<div>\n",
       "<style scoped>\n",
       "    .dataframe tbody tr th:only-of-type {\n",
       "        vertical-align: middle;\n",
       "    }\n",
       "\n",
       "    .dataframe tbody tr th {\n",
       "        vertical-align: top;\n",
       "    }\n",
       "\n",
       "    .dataframe thead th {\n",
       "        text-align: right;\n",
       "    }\n",
       "</style>\n",
       "<table border=\"1\" class=\"dataframe\">\n",
       "  <thead>\n",
       "    <tr style=\"text-align: right;\">\n",
       "      <th></th>\n",
       "      <th>customer_unique_id</th>\n",
       "      <th>order_recency</th>\n",
       "      <th>total_orders</th>\n",
       "      <th>order_dow_Friday</th>\n",
       "      <th>order_dow_Monday</th>\n",
       "      <th>order_dow_Saturday</th>\n",
       "      <th>order_dow_Sunday</th>\n",
       "      <th>order_dow_Thursday</th>\n",
       "      <th>order_dow_Tuesday</th>\n",
       "      <th>order_dow_Wednesday</th>\n",
       "      <th>delays</th>\n",
       "      <th>order_month_1</th>\n",
       "      <th>order_month_2</th>\n",
       "      <th>order_month_3</th>\n",
       "      <th>order_month_4</th>\n",
       "      <th>order_month_5</th>\n",
       "      <th>order_month_6</th>\n",
       "      <th>order_month_10</th>\n",
       "      <th>order_month_12</th>\n",
       "      <th>order_total</th>\n",
       "    </tr>\n",
       "  </thead>\n",
       "  <tbody>\n",
       "    <tr>\n",
       "      <th>0</th>\n",
       "      <td>0000f46a3911fa3c0805444483337064</td>\n",
       "      <td>112</td>\n",
       "      <td>1</td>\n",
       "      <td>1</td>\n",
       "      <td>0</td>\n",
       "      <td>0</td>\n",
       "      <td>0</td>\n",
       "      <td>0</td>\n",
       "      <td>0</td>\n",
       "      <td>0</td>\n",
       "      <td>2.0</td>\n",
       "      <td>0</td>\n",
       "      <td>0</td>\n",
       "      <td>1</td>\n",
       "      <td>0</td>\n",
       "      <td>0</td>\n",
       "      <td>0</td>\n",
       "      <td>0</td>\n",
       "      <td>0</td>\n",
       "      <td>689.76</td>\n",
       "    </tr>\n",
       "    <tr>\n",
       "      <th>1</th>\n",
       "      <td>0005e1862207bf6ccc02e4228effd9a0</td>\n",
       "      <td>118</td>\n",
       "      <td>1</td>\n",
       "      <td>0</td>\n",
       "      <td>0</td>\n",
       "      <td>1</td>\n",
       "      <td>0</td>\n",
       "      <td>0</td>\n",
       "      <td>0</td>\n",
       "      <td>0</td>\n",
       "      <td>28.0</td>\n",
       "      <td>0</td>\n",
       "      <td>0</td>\n",
       "      <td>1</td>\n",
       "      <td>0</td>\n",
       "      <td>0</td>\n",
       "      <td>0</td>\n",
       "      <td>0</td>\n",
       "      <td>0</td>\n",
       "      <td>450.36</td>\n",
       "    </tr>\n",
       "    <tr>\n",
       "      <th>2</th>\n",
       "      <td>00115fc7123b5310cf6d3a3aa932699e</td>\n",
       "      <td>160</td>\n",
       "      <td>1</td>\n",
       "      <td>0</td>\n",
       "      <td>0</td>\n",
       "      <td>1</td>\n",
       "      <td>0</td>\n",
       "      <td>0</td>\n",
       "      <td>0</td>\n",
       "      <td>0</td>\n",
       "      <td>33.0</td>\n",
       "      <td>1</td>\n",
       "      <td>0</td>\n",
       "      <td>0</td>\n",
       "      <td>0</td>\n",
       "      <td>0</td>\n",
       "      <td>0</td>\n",
       "      <td>0</td>\n",
       "      <td>0</td>\n",
       "      <td>76.11</td>\n",
       "    </tr>\n",
       "    <tr>\n",
       "      <th>3</th>\n",
       "      <td>0011805441c0d1b68b48002f1d005526</td>\n",
       "      <td>67</td>\n",
       "      <td>1</td>\n",
       "      <td>0</td>\n",
       "      <td>1</td>\n",
       "      <td>0</td>\n",
       "      <td>0</td>\n",
       "      <td>0</td>\n",
       "      <td>0</td>\n",
       "      <td>0</td>\n",
       "      <td>13.0</td>\n",
       "      <td>0</td>\n",
       "      <td>0</td>\n",
       "      <td>0</td>\n",
       "      <td>1</td>\n",
       "      <td>0</td>\n",
       "      <td>0</td>\n",
       "      <td>0</td>\n",
       "      <td>0</td>\n",
       "      <td>2971.40</td>\n",
       "    </tr>\n",
       "    <tr>\n",
       "      <th>4</th>\n",
       "      <td>0011857aff0e5871ce5eb429f21cdaf5</td>\n",
       "      <td>2</td>\n",
       "      <td>1</td>\n",
       "      <td>0</td>\n",
       "      <td>0</td>\n",
       "      <td>0</td>\n",
       "      <td>0</td>\n",
       "      <td>0</td>\n",
       "      <td>0</td>\n",
       "      <td>1</td>\n",
       "      <td>20.0</td>\n",
       "      <td>0</td>\n",
       "      <td>0</td>\n",
       "      <td>0</td>\n",
       "      <td>0</td>\n",
       "      <td>0</td>\n",
       "      <td>1</td>\n",
       "      <td>0</td>\n",
       "      <td>0</td>\n",
       "      <td>578.49</td>\n",
       "    </tr>\n",
       "  </tbody>\n",
       "</table>\n",
       "</div>"
      ],
      "text/plain": [
       "                 customer_unique_id  order_recency  total_orders  \\\n",
       "0  0000f46a3911fa3c0805444483337064            112             1   \n",
       "1  0005e1862207bf6ccc02e4228effd9a0            118             1   \n",
       "2  00115fc7123b5310cf6d3a3aa932699e            160             1   \n",
       "3  0011805441c0d1b68b48002f1d005526             67             1   \n",
       "4  0011857aff0e5871ce5eb429f21cdaf5              2             1   \n",
       "\n",
       "   order_dow_Friday  order_dow_Monday  order_dow_Saturday  order_dow_Sunday  \\\n",
       "0                 1                 0                   0                 0   \n",
       "1                 0                 0                   1                 0   \n",
       "2                 0                 0                   1                 0   \n",
       "3                 0                 1                   0                 0   \n",
       "4                 0                 0                   0                 0   \n",
       "\n",
       "   order_dow_Thursday  order_dow_Tuesday  order_dow_Wednesday  delays  \\\n",
       "0                   0                  0                    0     2.0   \n",
       "1                   0                  0                    0    28.0   \n",
       "2                   0                  0                    0    33.0   \n",
       "3                   0                  0                    0    13.0   \n",
       "4                   0                  0                    1    20.0   \n",
       "\n",
       "   order_month_1  order_month_2  order_month_3  order_month_4  order_month_5  \\\n",
       "0              0              0              1              0              0   \n",
       "1              0              0              1              0              0   \n",
       "2              1              0              0              0              0   \n",
       "3              0              0              0              1              0   \n",
       "4              0              0              0              0              0   \n",
       "\n",
       "   order_month_6  order_month_10  order_month_12  order_total  \n",
       "0              0               0               0       689.76  \n",
       "1              0               0               0       450.36  \n",
       "2              0               0               0        76.11  \n",
       "3              0               0               0      2971.40  \n",
       "4              1               0               0       578.49  "
      ]
     },
     "execution_count": 139,
     "metadata": {},
     "output_type": "execute_result"
    }
   ],
   "source": [
    "df.head()"
   ]
  },
  {
   "cell_type": "code",
   "execution_count": 140,
   "metadata": {},
   "outputs": [
    {
     "data": {
      "text/plain": [
       "72774"
      ]
     },
     "execution_count": 140,
     "metadata": {},
     "output_type": "execute_result"
    }
   ],
   "source": [
    "\n",
    "\n",
    "# select orders that were placed between July 2017 and 2018\n",
    "\n",
    "mask = (orders['order_purchase_timestamp'].dt.date > snapshot_date) & (orders['order_purchase_timestamp'].dt.date < date(2018,7,1))\n",
    "target_events_raw = orders[mask]\n",
    "\n",
    "len(target_events_raw)\n"
   ]
  },
  {
   "cell_type": "code",
   "execution_count": 141,
   "metadata": {},
   "outputs": [
    {
     "name": "stdout",
     "output_type": "stream",
     "text": [
      "2017-07-01 00:04:15 2018-06-30 23:59:49\n"
     ]
    }
   ],
   "source": [
    "# confirm the min and max dates are within the month of August 2018\n",
    "\n",
    "print (target_events_raw['order_purchase_timestamp'].min(), target_events_raw['order_purchase_timestamp'].max())"
   ]
  },
  {
   "cell_type": "markdown",
   "metadata": {},
   "source": [
    "**Step 2:** Summarize data to get one record per customer."
   ]
  },
  {
   "cell_type": "code",
   "execution_count": 142,
   "metadata": {},
   "outputs": [
    {
     "data": {
      "text/html": [
       "<div>\n",
       "<style scoped>\n",
       "    .dataframe tbody tr th:only-of-type {\n",
       "        vertical-align: middle;\n",
       "    }\n",
       "\n",
       "    .dataframe tbody tr th {\n",
       "        vertical-align: top;\n",
       "    }\n",
       "\n",
       "    .dataframe thead th {\n",
       "        text-align: right;\n",
       "    }\n",
       "</style>\n",
       "<table border=\"1\" class=\"dataframe\">\n",
       "  <thead>\n",
       "    <tr style=\"text-align: right;\">\n",
       "      <th></th>\n",
       "      <th>customer_unique_id</th>\n",
       "      <th>purch</th>\n",
       "    </tr>\n",
       "  </thead>\n",
       "  <tbody>\n",
       "    <tr>\n",
       "      <th>0</th>\n",
       "      <td>0000366f3b9a7992bf8c76cfdf3221e2</td>\n",
       "      <td>1</td>\n",
       "    </tr>\n",
       "    <tr>\n",
       "      <th>1</th>\n",
       "      <td>0000b849f77a49e4a4ce2b2a4ca5be3f</td>\n",
       "      <td>1</td>\n",
       "    </tr>\n",
       "    <tr>\n",
       "      <th>2</th>\n",
       "      <td>0000f6ccb0745a6a4b88665a16c9f078</td>\n",
       "      <td>1</td>\n",
       "    </tr>\n",
       "    <tr>\n",
       "      <th>3</th>\n",
       "      <td>0004aac84e0df4da2b147fca70cf8255</td>\n",
       "      <td>1</td>\n",
       "    </tr>\n",
       "    <tr>\n",
       "      <th>4</th>\n",
       "      <td>0004bd2a26a76fe21f786e4fbd80607f</td>\n",
       "      <td>1</td>\n",
       "    </tr>\n",
       "  </tbody>\n",
       "</table>\n",
       "</div>"
      ],
      "text/plain": [
       "                 customer_unique_id  purch\n",
       "0  0000366f3b9a7992bf8c76cfdf3221e2      1\n",
       "1  0000b849f77a49e4a4ce2b2a4ca5be3f      1\n",
       "2  0000f6ccb0745a6a4b88665a16c9f078      1\n",
       "3  0004aac84e0df4da2b147fca70cf8255      1\n",
       "4  0004bd2a26a76fe21f786e4fbd80607f      1"
      ]
     },
     "execution_count": 142,
     "metadata": {},
     "output_type": "execute_result"
    }
   ],
   "source": [
    "# count the number of orders (we will convert this into a binary flag later)\n",
    "\n",
    "target_events = target_events_raw.groupby('customer_unique_id').size().reset_index().rename(columns={0: 'purch'})\n",
    "\n",
    "target_events.head()"
   ]
  },
  {
   "cell_type": "code",
   "execution_count": 143,
   "metadata": {},
   "outputs": [
    {
     "name": "stdout",
     "output_type": "stream",
     "text": [
      "Number of customers who made at least one purchase durnig the prediction window: 67,776\n"
     ]
    }
   ],
   "source": [
    "print(f'Number of customers who made at least one purchase durnig the prediction window: {len(target_events):,}')"
   ]
  },
  {
   "cell_type": "markdown",
   "metadata": {},
   "source": [
    "**Step 3:** Merge this dataframe with the `attr` dataframe to create the modeling dataset."
   ]
  },
  {
   "cell_type": "code",
   "execution_count": 144,
   "metadata": {},
   "outputs": [
    {
     "data": {
      "text/plain": [
       "(13855, 21)"
      ]
     },
     "execution_count": 144,
     "metadata": {},
     "output_type": "execute_result"
    }
   ],
   "source": [
    "# merge `target_events` with the dataframe that contains customer attributes\n",
    "\n",
    "df = pd.merge(df, target_events, how='left', on='customer_unique_id')\n",
    "\n",
    "df.shape"
   ]
  },
  {
   "cell_type": "code",
   "execution_count": 23,
   "metadata": {},
   "outputs": [
    {
     "data": {
      "text/html": [
       "<div>\n",
       "<style scoped>\n",
       "    .dataframe tbody tr th:only-of-type {\n",
       "        vertical-align: middle;\n",
       "    }\n",
       "\n",
       "    .dataframe tbody tr th {\n",
       "        vertical-align: top;\n",
       "    }\n",
       "\n",
       "    .dataframe thead th {\n",
       "        text-align: right;\n",
       "    }\n",
       "</style>\n",
       "<table border=\"1\" class=\"dataframe\">\n",
       "  <thead>\n",
       "    <tr style=\"text-align: right;\">\n",
       "      <th></th>\n",
       "      <th>customer_unique_id</th>\n",
       "      <th>order_recency</th>\n",
       "      <th>total_orders</th>\n",
       "      <th>order_dow_Friday</th>\n",
       "      <th>order_dow_Monday</th>\n",
       "      <th>order_dow_Saturday</th>\n",
       "      <th>order_dow_Sunday</th>\n",
       "      <th>order_dow_Thursday</th>\n",
       "      <th>order_dow_Tuesday</th>\n",
       "      <th>order_dow_Wednesday</th>\n",
       "      <th>...</th>\n",
       "      <th>order_month_1</th>\n",
       "      <th>order_month_2</th>\n",
       "      <th>order_month_3</th>\n",
       "      <th>order_month_4</th>\n",
       "      <th>order_month_5</th>\n",
       "      <th>order_month_6</th>\n",
       "      <th>order_month_10</th>\n",
       "      <th>order_month_12</th>\n",
       "      <th>order_total</th>\n",
       "      <th>purch</th>\n",
       "    </tr>\n",
       "  </thead>\n",
       "  <tbody>\n",
       "    <tr>\n",
       "      <th>0</th>\n",
       "      <td>0000f46a3911fa3c0805444483337064</td>\n",
       "      <td>112</td>\n",
       "      <td>1</td>\n",
       "      <td>1</td>\n",
       "      <td>0</td>\n",
       "      <td>0</td>\n",
       "      <td>0</td>\n",
       "      <td>0</td>\n",
       "      <td>0</td>\n",
       "      <td>0</td>\n",
       "      <td>...</td>\n",
       "      <td>0</td>\n",
       "      <td>0</td>\n",
       "      <td>1</td>\n",
       "      <td>0</td>\n",
       "      <td>0</td>\n",
       "      <td>0</td>\n",
       "      <td>0</td>\n",
       "      <td>0</td>\n",
       "      <td>689.76</td>\n",
       "      <td>NaN</td>\n",
       "    </tr>\n",
       "    <tr>\n",
       "      <th>1</th>\n",
       "      <td>0005e1862207bf6ccc02e4228effd9a0</td>\n",
       "      <td>118</td>\n",
       "      <td>1</td>\n",
       "      <td>0</td>\n",
       "      <td>0</td>\n",
       "      <td>1</td>\n",
       "      <td>0</td>\n",
       "      <td>0</td>\n",
       "      <td>0</td>\n",
       "      <td>0</td>\n",
       "      <td>...</td>\n",
       "      <td>0</td>\n",
       "      <td>0</td>\n",
       "      <td>1</td>\n",
       "      <td>0</td>\n",
       "      <td>0</td>\n",
       "      <td>0</td>\n",
       "      <td>0</td>\n",
       "      <td>0</td>\n",
       "      <td>450.36</td>\n",
       "      <td>NaN</td>\n",
       "    </tr>\n",
       "    <tr>\n",
       "      <th>2</th>\n",
       "      <td>00115fc7123b5310cf6d3a3aa932699e</td>\n",
       "      <td>160</td>\n",
       "      <td>1</td>\n",
       "      <td>0</td>\n",
       "      <td>0</td>\n",
       "      <td>1</td>\n",
       "      <td>0</td>\n",
       "      <td>0</td>\n",
       "      <td>0</td>\n",
       "      <td>0</td>\n",
       "      <td>...</td>\n",
       "      <td>1</td>\n",
       "      <td>0</td>\n",
       "      <td>0</td>\n",
       "      <td>0</td>\n",
       "      <td>0</td>\n",
       "      <td>0</td>\n",
       "      <td>0</td>\n",
       "      <td>0</td>\n",
       "      <td>76.11</td>\n",
       "      <td>NaN</td>\n",
       "    </tr>\n",
       "    <tr>\n",
       "      <th>3</th>\n",
       "      <td>0011805441c0d1b68b48002f1d005526</td>\n",
       "      <td>67</td>\n",
       "      <td>1</td>\n",
       "      <td>0</td>\n",
       "      <td>1</td>\n",
       "      <td>0</td>\n",
       "      <td>0</td>\n",
       "      <td>0</td>\n",
       "      <td>0</td>\n",
       "      <td>0</td>\n",
       "      <td>...</td>\n",
       "      <td>0</td>\n",
       "      <td>0</td>\n",
       "      <td>0</td>\n",
       "      <td>1</td>\n",
       "      <td>0</td>\n",
       "      <td>0</td>\n",
       "      <td>0</td>\n",
       "      <td>0</td>\n",
       "      <td>2971.40</td>\n",
       "      <td>NaN</td>\n",
       "    </tr>\n",
       "    <tr>\n",
       "      <th>4</th>\n",
       "      <td>0011857aff0e5871ce5eb429f21cdaf5</td>\n",
       "      <td>2</td>\n",
       "      <td>1</td>\n",
       "      <td>0</td>\n",
       "      <td>0</td>\n",
       "      <td>0</td>\n",
       "      <td>0</td>\n",
       "      <td>0</td>\n",
       "      <td>0</td>\n",
       "      <td>1</td>\n",
       "      <td>...</td>\n",
       "      <td>0</td>\n",
       "      <td>0</td>\n",
       "      <td>0</td>\n",
       "      <td>0</td>\n",
       "      <td>0</td>\n",
       "      <td>1</td>\n",
       "      <td>0</td>\n",
       "      <td>0</td>\n",
       "      <td>578.49</td>\n",
       "      <td>NaN</td>\n",
       "    </tr>\n",
       "  </tbody>\n",
       "</table>\n",
       "<p>5 rows × 21 columns</p>\n",
       "</div>"
      ],
      "text/plain": [
       "                 customer_unique_id  order_recency  total_orders  \\\n",
       "0  0000f46a3911fa3c0805444483337064            112             1   \n",
       "1  0005e1862207bf6ccc02e4228effd9a0            118             1   \n",
       "2  00115fc7123b5310cf6d3a3aa932699e            160             1   \n",
       "3  0011805441c0d1b68b48002f1d005526             67             1   \n",
       "4  0011857aff0e5871ce5eb429f21cdaf5              2             1   \n",
       "\n",
       "   order_dow_Friday  order_dow_Monday  order_dow_Saturday  order_dow_Sunday  \\\n",
       "0                 1                 0                   0                 0   \n",
       "1                 0                 0                   1                 0   \n",
       "2                 0                 0                   1                 0   \n",
       "3                 0                 1                   0                 0   \n",
       "4                 0                 0                   0                 0   \n",
       "\n",
       "   order_dow_Thursday  order_dow_Tuesday  order_dow_Wednesday  ...  \\\n",
       "0                   0                  0                    0  ...   \n",
       "1                   0                  0                    0  ...   \n",
       "2                   0                  0                    0  ...   \n",
       "3                   0                  0                    0  ...   \n",
       "4                   0                  0                    1  ...   \n",
       "\n",
       "   order_month_1  order_month_2  order_month_3  order_month_4  order_month_5  \\\n",
       "0              0              0              1              0              0   \n",
       "1              0              0              1              0              0   \n",
       "2              1              0              0              0              0   \n",
       "3              0              0              0              1              0   \n",
       "4              0              0              0              0              0   \n",
       "\n",
       "   order_month_6  order_month_10  order_month_12  order_total  purch  \n",
       "0              0               0               0       689.76    NaN  \n",
       "1              0               0               0       450.36    NaN  \n",
       "2              0               0               0        76.11    NaN  \n",
       "3              0               0               0      2971.40    NaN  \n",
       "4              1               0               0       578.49    NaN  \n",
       "\n",
       "[5 rows x 21 columns]"
      ]
     },
     "execution_count": 23,
     "metadata": {},
     "output_type": "execute_result"
    }
   ],
   "source": [
    "df.head()"
   ]
  },
  {
   "cell_type": "code",
   "execution_count": 145,
   "metadata": {},
   "outputs": [
    {
     "data": {
      "text/plain": [
       "1.0    309\n",
       "2.0     47\n",
       "3.0      9\n",
       "9.0      1\n",
       "5.0      1\n",
       "Name: purch, dtype: int64"
      ]
     },
     "execution_count": 145,
     "metadata": {},
     "output_type": "execute_result"
    }
   ],
   "source": [
    "df.purch.value_counts()"
   ]
  },
  {
   "cell_type": "markdown",
   "metadata": {},
   "source": [
    "We need to convert this variable into a binary flag."
   ]
  },
  {
   "cell_type": "markdown",
   "metadata": {},
   "source": [
    "**Step 4:** Set the target variable to 1 if at least one purchase was made, 0 otherwise."
   ]
  },
  {
   "cell_type": "code",
   "execution_count": 146,
   "metadata": {},
   "outputs": [
    {
     "data": {
      "text/plain": [
       "0    13488\n",
       "1      367\n",
       "Name: purch, dtype: int64"
      ]
     },
     "execution_count": 146,
     "metadata": {},
     "output_type": "execute_result"
    }
   ],
   "source": [
    "# create the binary target flag\n",
    "\n",
    "df['purch'] = [1 if x > 0 else 0 for x in df['purch']]\n",
    "\n",
    "df.purch.value_counts()"
   ]
  },
  {
   "cell_type": "code",
   "execution_count": 147,
   "metadata": {},
   "outputs": [
    {
     "data": {
      "text/plain": [
       "0    0.973511\n",
       "1    0.026489\n",
       "Name: purch, dtype: float64"
      ]
     },
     "execution_count": 147,
     "metadata": {},
     "output_type": "execute_result"
    }
   ],
   "source": [
    "# % distribution of the target flag\n",
    "\n",
    "df.purch.value_counts() / len(df)"
   ]
  },
  {
   "cell_type": "markdown",
   "metadata": {},
   "source": [
    "There are two issues here: (1) the target event is extremely rare, and (2) the number of target events is also extremely small. There are several ways to circumvent these issues, but for now we will proceed with this dataset. "
   ]
  },
  {
   "cell_type": "code",
   "execution_count": 148,
   "metadata": {
    "scrolled": true
   },
   "outputs": [
    {
     "data": {
      "text/plain": [
       "order_recency         -0.026816\n",
       "total_orders           0.005163\n",
       "order_dow_Friday      -0.006783\n",
       "order_dow_Monday      -0.011389\n",
       "order_dow_Saturday     0.006374\n",
       "order_dow_Sunday      -0.000218\n",
       "order_dow_Thursday     0.011081\n",
       "order_dow_Tuesday     -0.004688\n",
       "order_dow_Wednesday    0.013004\n",
       "delays                 0.016203\n",
       "order_month_1          0.002737\n",
       "order_month_2         -0.021879\n",
       "order_month_3         -0.010577\n",
       "order_month_4         -0.007809\n",
       "order_month_5          0.012584\n",
       "order_month_6          0.021171\n",
       "order_month_10         0.004326\n",
       "order_month_12        -0.001401\n",
       "order_total            0.009565\n",
       "purch                  1.000000\n",
       "Name: purch, dtype: float64"
      ]
     },
     "execution_count": 148,
     "metadata": {},
     "output_type": "execute_result"
    }
   ],
   "source": [
    "# check the correlations\n",
    "\n",
    "df.corr()['purch']"
   ]
  },
  {
   "cell_type": "markdown",
   "metadata": {},
   "source": [
    "Before moving on to model building, let create a two-axis plot to view the purchase rates by recency."
   ]
  },
  {
   "cell_type": "markdown",
   "metadata": {},
   "source": [
    "### Model building"
   ]
  },
  {
   "cell_type": "code",
   "execution_count": 149,
   "metadata": {},
   "outputs": [
    {
     "data": {
      "text/plain": [
       "Index(['customer_unique_id', 'order_recency', 'total_orders',\n",
       "       'order_dow_Friday', 'order_dow_Monday', 'order_dow_Saturday',\n",
       "       'order_dow_Sunday', 'order_dow_Thursday', 'order_dow_Tuesday',\n",
       "       'order_dow_Wednesday', 'delays', 'order_month_1', 'order_month_2',\n",
       "       'order_month_3', 'order_month_4', 'order_month_5', 'order_month_6',\n",
       "       'order_month_10', 'order_month_12', 'order_total', 'purch'],\n",
       "      dtype='object')"
      ]
     },
     "execution_count": 149,
     "metadata": {},
     "output_type": "execute_result"
    }
   ],
   "source": [
    "df.columns\n"
   ]
  },
  {
   "cell_type": "code",
   "execution_count": 150,
   "metadata": {},
   "outputs": [],
   "source": [
    "# set-up\n",
    "\n",
    "preds = df.columns[1:-1]\n",
    "\n",
    "X = df[preds]\n",
    "y = df['purch']"
   ]
  },
  {
   "cell_type": "code",
   "execution_count": 151,
   "metadata": {},
   "outputs": [
    {
     "data": {
      "text/plain": [
       "13855"
      ]
     },
     "execution_count": 151,
     "metadata": {},
     "output_type": "execute_result"
    }
   ],
   "source": [
    "len(y)"
   ]
  },
  {
   "cell_type": "markdown",
   "metadata": {},
   "source": [
    "Tri-fold partitioning is recommended as long as there's sufficient sample size avaiable. In this example, since the number of target events is very small, we will perform a two-fold paritioning of the modeling sample."
   ]
  },
  {
   "cell_type": "markdown",
   "metadata": {},
   "source": [
    "Note that we could increase the size of the prediction window to capture more purchase events. However, for this exercise we will continue with the current prediction window (of one month)."
   ]
  },
  {
   "cell_type": "markdown",
   "metadata": {},
   "source": [
    "#### Two-fold partition"
   ]
  },
  {
   "cell_type": "code",
   "execution_count": 31,
   "metadata": {},
   "outputs": [
    {
     "data": {
      "text/plain": [
       "(6927, 6928)"
      ]
     },
     "execution_count": 31,
     "metadata": {},
     "output_type": "execute_result"
    }
   ],
   "source": [
    "# split the dataframe into train(50%) and test(50%)\n",
    "\n",
    "from sklearn.model_selection import train_test_split\n",
    "\n",
    "X_train, X_test, y_train, y_test = train_test_split(X, y, test_size=0.5, random_state=314)\n",
    "\n",
    "len(X_train), len(X_test)"
   ]
  },
  {
   "cell_type": "code",
   "execution_count": 152,
   "metadata": {},
   "outputs": [],
   "source": [
    "# Shuffle the dataset  \n",
    "shuffle_df = df.sample(frac=1)\n",
    "\n",
    "# Define a size for your train set \n",
    "train_size = int(0.5 * len(df))\n",
    "\n",
    "# Split your dataset \n",
    "train_set = shuffle_df[:train_size]\n",
    "test_set = shuffle_df[train_size:]"
   ]
  },
  {
   "cell_type": "code",
   "execution_count": 153,
   "metadata": {},
   "outputs": [],
   "source": [
    "##split the data without using sklearn function\n",
    "X_train=train_set[['order_recency', 'total_orders',\n",
    "       'order_dow_Friday', 'order_dow_Monday', 'order_dow_Saturday',\n",
    "       'order_dow_Sunday', 'order_dow_Thursday', 'order_dow_Tuesday',\n",
    "       'order_dow_Wednesday']]\n",
    "y_train = train_set['purch']\n",
    "\n",
    "X_test=test_set[['order_recency', 'total_orders',\n",
    "       'order_dow_Friday', 'order_dow_Monday', 'order_dow_Saturday',\n",
    "       'order_dow_Sunday', 'order_dow_Thursday', 'order_dow_Tuesday',\n",
    "       'order_dow_Wednesday']]\n",
    "y_test = test_set['purch']"
   ]
  },
  {
   "cell_type": "code",
   "execution_count": 154,
   "metadata": {},
   "outputs": [
    {
     "data": {
      "text/plain": [
       "0    6737\n",
       "1     190\n",
       "Name: purch, dtype: int64"
      ]
     },
     "execution_count": 154,
     "metadata": {},
     "output_type": "execute_result"
    }
   ],
   "source": [
    "# target distribution in the trainig sample\n",
    "\n",
    "y_train.value_counts()"
   ]
  },
  {
   "cell_type": "code",
   "execution_count": 155,
   "metadata": {},
   "outputs": [
    {
     "data": {
      "text/plain": [
       "0    6751\n",
       "1     177\n",
       "Name: purch, dtype: int64"
      ]
     },
     "execution_count": 155,
     "metadata": {},
     "output_type": "execute_result"
    }
   ],
   "source": [
    "# target distribution in the test sample\n",
    "\n",
    "y_test.value_counts()"
   ]
  },
  {
   "cell_type": "code",
   "execution_count": 156,
   "metadata": {},
   "outputs": [],
   "source": [
    "from sklearn.linear_model import LogisticRegression\n",
    "\n",
    "# define the model object ('liblinear' is recommended for small datasets)\n",
    "clf = LogisticRegression(solver='liblinear', random_state=314)\n",
    "\n",
    "# train (fit) the model using the training sample\n",
    "clf.fit(X_train, y_train)\n",
    "\n",
    "# make predictions on the test sample\n",
    "y_preds = clf.predict(X_test)"
   ]
  },
  {
   "cell_type": "markdown",
   "metadata": {},
   "source": [
    "### Model accuracy"
   ]
  },
  {
   "cell_type": "code",
   "execution_count": 157,
   "metadata": {},
   "outputs": [
    {
     "data": {
      "text/plain": [
       "0.9744515011547344"
      ]
     },
     "execution_count": 157,
     "metadata": {},
     "output_type": "execute_result"
    }
   ],
   "source": [
    "from sklearn.metrics import accuracy_score\n",
    "\n",
    "accuracy_score(y_test, y_preds)"
   ]
  },
  {
   "cell_type": "markdown",
   "metadata": {},
   "source": [
    "Why does the model appear to be very strong in spite of only two predictors that didn't look correlated with the target?"
   ]
  },
  {
   "cell_type": "code",
   "execution_count": 158,
   "metadata": {},
   "outputs": [
    {
     "data": {
      "text/html": [
       "<div>\n",
       "<style scoped>\n",
       "    .dataframe tbody tr th:only-of-type {\n",
       "        vertical-align: middle;\n",
       "    }\n",
       "\n",
       "    .dataframe tbody tr th {\n",
       "        vertical-align: top;\n",
       "    }\n",
       "\n",
       "    .dataframe thead th {\n",
       "        text-align: right;\n",
       "    }\n",
       "</style>\n",
       "<table border=\"1\" class=\"dataframe\">\n",
       "  <thead>\n",
       "    <tr style=\"text-align: right;\">\n",
       "      <th>col_0</th>\n",
       "      <th>0</th>\n",
       "    </tr>\n",
       "    <tr>\n",
       "      <th>purch</th>\n",
       "      <th></th>\n",
       "    </tr>\n",
       "  </thead>\n",
       "  <tbody>\n",
       "    <tr>\n",
       "      <th>0</th>\n",
       "      <td>6751</td>\n",
       "    </tr>\n",
       "    <tr>\n",
       "      <th>1</th>\n",
       "      <td>177</td>\n",
       "    </tr>\n",
       "  </tbody>\n",
       "</table>\n",
       "</div>"
      ],
      "text/plain": [
       "col_0     0\n",
       "purch      \n",
       "0      6751\n",
       "1       177"
      ]
     },
     "execution_count": 158,
     "metadata": {},
     "output_type": "execute_result"
    }
   ],
   "source": [
    "# check model's predictions against actual value of the target event\n",
    "\n",
    "pd.crosstab(y_test, y_preds)"
   ]
  },
  {
   "cell_type": "markdown",
   "metadata": {},
   "source": [
    "The model is predicting 0 (no purchase) for all customers! Accuracy score is not a reliable measure while dealing with rare events. Let's take a look at a few additional metrics. (We will learn about these metrics in the class later.)"
   ]
  },
  {
   "cell_type": "markdown",
   "metadata": {},
   "source": [
    "Area under the ROC curve (AUC)"
   ]
  },
  {
   "cell_type": "code",
   "execution_count": 159,
   "metadata": {},
   "outputs": [
    {
     "data": {
      "text/plain": [
       "0.5449487709291028"
      ]
     },
     "execution_count": 159,
     "metadata": {},
     "output_type": "execute_result"
    }
   ],
   "source": [
    "from sklearn.metrics import roc_auc_score\n",
    "\n",
    "# calculate the probabilities on the test sample\n",
    "y_scores = clf.predict_proba(X_test)[:, 1]\n",
    "\n",
    "# calcualte AUC\n",
    "roc_auc_score(y_test, y_scores)"
   ]
  },
  {
   "cell_type": "code",
   "execution_count": 160,
   "metadata": {},
   "outputs": [
    {
     "data": {
      "text/plain": [
       "0.05253128100452113"
      ]
     },
     "execution_count": 160,
     "metadata": {},
     "output_type": "execute_result"
    }
   ],
   "source": [
    "clf.predict_proba(X_test)[:,1].max()"
   ]
  },
  {
   "cell_type": "markdown",
   "metadata": {},
   "source": [
    "Precision"
   ]
  },
  {
   "cell_type": "code",
   "execution_count": 161,
   "metadata": {},
   "outputs": [
    {
     "data": {
      "text/plain": [
       "0.028944342421054405"
      ]
     },
     "execution_count": 161,
     "metadata": {},
     "output_type": "execute_result"
    }
   ],
   "source": [
    "from sklearn.metrics import average_precision_score\n",
    "\n",
    "average_precision = average_precision_score(y_test, y_scores)\n",
    "\n",
    "average_precision"
   ]
  },
  {
   "cell_type": "markdown",
   "metadata": {},
   "source": [
    "## Decision Tree Model"
   ]
  },
  {
   "cell_type": "code",
   "execution_count": 50,
   "metadata": {},
   "outputs": [],
   "source": [
    "from sklearn.tree import DecisionTreeClassifier\n",
    "\n",
    "from sklearn import metrics\n",
    "\n",
    "from sklearn.metrics import roc_auc_score\n",
    "\n"
   ]
  },
  {
   "cell_type": "code",
   "execution_count": 52,
   "metadata": {},
   "outputs": [],
   "source": [
    "# Create Decision Tree classifer object\n",
    "cltree = DecisionTreeClassifier()\n",
    "\n",
    "# Train Decision Tree Classifer\n",
    "cltree = cltree.fit(X_train,y_train)\n",
    "\n",
    "#Predict the response for test dataset\n",
    "y_pred = cltree.predict(X_test)"
   ]
  },
  {
   "cell_type": "code",
   "execution_count": 54,
   "metadata": {},
   "outputs": [
    {
     "name": "stdout",
     "output_type": "stream",
     "text": [
      "Accuracy: 0.9740184757505773\n"
     ]
    }
   ],
   "source": [
    "print(\"Accuracy:\",metrics.accuracy_score(y_test, y_pred))"
   ]
  },
  {
   "cell_type": "code",
   "execution_count": 55,
   "metadata": {},
   "outputs": [
    {
     "data": {
      "text/plain": [
       "0.5251165210153974"
      ]
     },
     "execution_count": 55,
     "metadata": {},
     "output_type": "execute_result"
    }
   ],
   "source": [
    "# calculate the probabilities on the test sample\n",
    "y_scores = cltree.predict_proba(X_test)[:, 1]\n",
    "\n",
    "# calcualte AUC\n",
    "roc_auc_score(y_test, y_scores)"
   ]
  },
  {
   "cell_type": "markdown",
   "metadata": {},
   "source": [
    "## Export results"
   ]
  },
  {
   "cell_type": "markdown",
   "metadata": {},
   "source": [
    "#### 1. Scored dataset (with all model attributes)"
   ]
  },
  {
   "cell_type": "code",
   "execution_count": 48,
   "metadata": {},
   "outputs": [
    {
     "data": {
      "text/html": [
       "<div>\n",
       "<style scoped>\n",
       "    .dataframe tbody tr th:only-of-type {\n",
       "        vertical-align: middle;\n",
       "    }\n",
       "\n",
       "    .dataframe tbody tr th {\n",
       "        vertical-align: top;\n",
       "    }\n",
       "\n",
       "    .dataframe thead th {\n",
       "        text-align: right;\n",
       "    }\n",
       "</style>\n",
       "<table border=\"1\" class=\"dataframe\">\n",
       "  <thead>\n",
       "    <tr style=\"text-align: right;\">\n",
       "      <th></th>\n",
       "      <th>customer_unique_id</th>\n",
       "      <th>order_recency</th>\n",
       "      <th>total_orders</th>\n",
       "      <th>order_dow_Friday</th>\n",
       "      <th>order_dow_Monday</th>\n",
       "      <th>order_dow_Saturday</th>\n",
       "      <th>order_dow_Sunday</th>\n",
       "      <th>order_dow_Thursday</th>\n",
       "      <th>order_dow_Tuesday</th>\n",
       "      <th>order_dow_Wednesday</th>\n",
       "      <th>purch</th>\n",
       "      <th>prob_to_purchase</th>\n",
       "    </tr>\n",
       "  </thead>\n",
       "  <tbody>\n",
       "    <tr>\n",
       "      <td>0</td>\n",
       "      <td>0000366f3b9a7992bf8c76cfdf3221e2</td>\n",
       "      <td>51</td>\n",
       "      <td>1</td>\n",
       "      <td>0</td>\n",
       "      <td>0</td>\n",
       "      <td>0</td>\n",
       "      <td>0</td>\n",
       "      <td>1</td>\n",
       "      <td>0</td>\n",
       "      <td>0</td>\n",
       "      <td>0</td>\n",
       "      <td>0.003737</td>\n",
       "    </tr>\n",
       "    <tr>\n",
       "      <td>1</td>\n",
       "      <td>0000b849f77a49e4a4ce2b2a4ca5be3f</td>\n",
       "      <td>54</td>\n",
       "      <td>1</td>\n",
       "      <td>0</td>\n",
       "      <td>1</td>\n",
       "      <td>0</td>\n",
       "      <td>0</td>\n",
       "      <td>0</td>\n",
       "      <td>0</td>\n",
       "      <td>0</td>\n",
       "      <td>0</td>\n",
       "      <td>0.002449</td>\n",
       "    </tr>\n",
       "    <tr>\n",
       "      <td>2</td>\n",
       "      <td>0000f6ccb0745a6a4b88665a16c9f078</td>\n",
       "      <td>261</td>\n",
       "      <td>1</td>\n",
       "      <td>0</td>\n",
       "      <td>0</td>\n",
       "      <td>0</td>\n",
       "      <td>0</td>\n",
       "      <td>1</td>\n",
       "      <td>0</td>\n",
       "      <td>0</td>\n",
       "      <td>0</td>\n",
       "      <td>0.001617</td>\n",
       "    </tr>\n",
       "    <tr>\n",
       "      <td>3</td>\n",
       "      <td>0004aac84e0df4da2b147fca70cf8255</td>\n",
       "      <td>228</td>\n",
       "      <td>1</td>\n",
       "      <td>0</td>\n",
       "      <td>0</td>\n",
       "      <td>0</td>\n",
       "      <td>0</td>\n",
       "      <td>0</td>\n",
       "      <td>1</td>\n",
       "      <td>0</td>\n",
       "      <td>0</td>\n",
       "      <td>0.002320</td>\n",
       "    </tr>\n",
       "    <tr>\n",
       "      <td>4</td>\n",
       "      <td>0004bd2a26a76fe21f786e4fbd80607f</td>\n",
       "      <td>86</td>\n",
       "      <td>1</td>\n",
       "      <td>0</td>\n",
       "      <td>0</td>\n",
       "      <td>0</td>\n",
       "      <td>0</td>\n",
       "      <td>1</td>\n",
       "      <td>0</td>\n",
       "      <td>0</td>\n",
       "      <td>0</td>\n",
       "      <td>0.003251</td>\n",
       "    </tr>\n",
       "  </tbody>\n",
       "</table>\n",
       "</div>"
      ],
      "text/plain": [
       "                 customer_unique_id  order_recency  total_orders  \\\n",
       "0  0000366f3b9a7992bf8c76cfdf3221e2             51             1   \n",
       "1  0000b849f77a49e4a4ce2b2a4ca5be3f             54             1   \n",
       "2  0000f6ccb0745a6a4b88665a16c9f078            261             1   \n",
       "3  0004aac84e0df4da2b147fca70cf8255            228             1   \n",
       "4  0004bd2a26a76fe21f786e4fbd80607f             86             1   \n",
       "\n",
       "   order_dow_Friday  order_dow_Monday  order_dow_Saturday  order_dow_Sunday  \\\n",
       "0                 0                 0                   0                 0   \n",
       "1                 0                 1                   0                 0   \n",
       "2                 0                 0                   0                 0   \n",
       "3                 0                 0                   0                 0   \n",
       "4                 0                 0                   0                 0   \n",
       "\n",
       "   order_dow_Thursday  order_dow_Tuesday  order_dow_Wednesday  purch  \\\n",
       "0                   1                  0                    0      0   \n",
       "1                   0                  0                    0      0   \n",
       "2                   1                  0                    0      0   \n",
       "3                   0                  1                    0      0   \n",
       "4                   1                  0                    0      0   \n",
       "\n",
       "   prob_to_purchase  \n",
       "0          0.003737  \n",
       "1          0.002449  \n",
       "2          0.001617  \n",
       "3          0.002320  \n",
       "4          0.003251  "
      ]
     },
     "execution_count": 48,
     "metadata": {},
     "output_type": "execute_result"
    }
   ],
   "source": [
    "scores_all = clf.predict_proba(df[preds])[:, 1]\n",
    "\n",
    "df['prob_to_purchase'] = scores_all\n",
    "\n",
    "df.head()"
   ]
  },
  {
   "cell_type": "code",
   "execution_count": 86,
   "metadata": {},
   "outputs": [],
   "source": [
    "csv_file_zipped = 'purch_model_scores.csv.gz'\n",
    "\n",
    "df.to_csv(csv_file_zipped, compression='gzip')"
   ]
  },
  {
   "cell_type": "markdown",
   "metadata": {},
   "source": [
    "#### 2. Export the model"
   ]
  },
  {
   "cell_type": "code",
   "execution_count": 50,
   "metadata": {},
   "outputs": [
    {
     "data": {
      "text/plain": [
       "['../output/purch_model.joblib']"
      ]
     },
     "execution_count": 50,
     "metadata": {},
     "output_type": "execute_result"
    }
   ],
   "source": [
    "import joblib\n",
    "\n",
    "model_pkl_file = '../output/purch_model.joblib'\n",
    "\n",
    "joblib.dump(clf, model_pkl_file)"
   ]
  },
  {
   "cell_type": "markdown",
   "metadata": {},
   "source": [
    "##### Load the model"
   ]
  },
  {
   "cell_type": "code",
   "execution_count": 51,
   "metadata": {},
   "outputs": [
    {
     "data": {
      "text/plain": [
       "LogisticRegression(C=1.0, class_weight=None, dual=False, fit_intercept=True,\n",
       "                   intercept_scaling=1, l1_ratio=None, max_iter=100,\n",
       "                   multi_class='warn', n_jobs=None, penalty='l2',\n",
       "                   random_state=314, solver='liblinear', tol=0.0001, verbose=0,\n",
       "                   warm_start=False)"
      ]
     },
     "execution_count": 51,
     "metadata": {},
     "output_type": "execute_result"
    }
   ],
   "source": [
    "clf_loaded = joblib.load(model_pkl_file)\n",
    "\n",
    "clf_loaded"
   ]
  },
  {
   "cell_type": "code",
   "execution_count": 172,
   "metadata": {},
   "outputs": [
    {
     "ename": "NameError",
     "evalue": "name 'clf_loaded' is not defined",
     "output_type": "error",
     "traceback": [
      "\u001b[0;31m---------------------------------------------------------------------------\u001b[0m",
      "\u001b[0;31mNameError\u001b[0m                                 Traceback (most recent call last)",
      "\u001b[0;32m<ipython-input-172-0736c739522b>\u001b[0m in \u001b[0;36m<module>\u001b[0;34m\u001b[0m\n\u001b[1;32m      1\u001b[0m \u001b[0;31m# use the model to score a \"new\" data frame\u001b[0m\u001b[0;34m\u001b[0m\u001b[0;34m\u001b[0m\u001b[0;34m\u001b[0m\u001b[0m\n\u001b[1;32m      2\u001b[0m \u001b[0;34m\u001b[0m\u001b[0m\n\u001b[0;32m----> 3\u001b[0;31m \u001b[0mclf_loaded\u001b[0m\u001b[0;34m.\u001b[0m\u001b[0mpredict_proba\u001b[0m\u001b[0;34m(\u001b[0m\u001b[0mX_test\u001b[0m\u001b[0;34m)\u001b[0m\u001b[0;34m\u001b[0m\u001b[0;34m\u001b[0m\u001b[0m\n\u001b[0m",
      "\u001b[0;31mNameError\u001b[0m: name 'clf_loaded' is not defined"
     ]
    }
   ],
   "source": [
    "# use the model to score a \"new\" data frame\n",
    "\n",
    "clf_loaded.predict_proba(X_test)"
   ]
  },
  {
   "cell_type": "code",
   "execution_count": null,
   "metadata": {},
   "outputs": [],
   "source": [
    "# TESTCODE modify this to count number of times customer ordered on weekend. Like weekday count.\n",
    "df_raw.loc[(df_raw['order_dow'] == 'Saturday') | (df_raw['order_dow'] == 'Sunday'), 'weekend'] = 'sure'\n",
    "\n",
    "df_raw.loc[(df_raw['order_dow'] != 'Saturday') & (df_raw['order_dow'] != 'Sunday'), 'weekend'] = 'nah'\n",
    "\n",
    "df_raw.head()\n",
    "\n",
    "##view certain columns\n",
    "test = df_raw[df_raw['customer_unique_id']=='0000366f3b9a7992bf8c76cfdf3221e2']\n",
    "test[['customer_unique_id','payment_installments','payment_value','order_total']]"
   ]
  }
 ],
 "metadata": {
  "kernelspec": {
   "display_name": "Python 3",
   "language": "python",
   "name": "python3"
  },
  "language_info": {
   "codemirror_mode": {
    "name": "ipython",
    "version": 3
   },
   "file_extension": ".py",
   "mimetype": "text/x-python",
   "name": "python",
   "nbconvert_exporter": "python",
   "pygments_lexer": "ipython3",
   "version": "3.7.3"
  }
 },
 "nbformat": 4,
 "nbformat_minor": 2
}
